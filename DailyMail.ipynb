{
  "nbformat": 4,
  "nbformat_minor": 0,
  "metadata": {
    "colab": {
      "name": "DailyMail.ipynb",
      "provenance": [],
      "collapsed_sections": [
        "B7zqnQn_xR-X",
        "9mjx0mFhIl0V"
      ],
      "mount_file_id": "1r8C8cNOHEi9vCYqhAvXOvpbP4lvzer77",
      "authorship_tag": "ABX9TyM1S6VzNAK/kXgxkcWUVEgf",
      "include_colab_link": true
    },
    "kernelspec": {
      "display_name": "Python 3",
      "name": "python3"
    },
    "language_info": {
      "name": "python"
    }
  },
  "cells": [
    {
      "cell_type": "markdown",
      "metadata": {
        "id": "view-in-github",
        "colab_type": "text"
      },
      "source": [
        "<a href=\"https://colab.research.google.com/github/MKeel1ng/DailyMailAnalysis/blob/master/DailyMail.ipynb\" target=\"_parent\"><img src=\"https://colab.research.google.com/assets/colab-badge.svg\" alt=\"Open In Colab\"/></a>"
      ]
    },
    {
      "cell_type": "code",
      "metadata": {
        "id": "D8RpL05sp78E"
      },
      "source": [
        "# importing the necessary packages\n",
        "import requests\n",
        "from bs4 import BeautifulSoup\n",
        "import pandas as pd\n",
        "import tqdm"
      ],
      "execution_count": 3,
      "outputs": []
    },
    {
      "cell_type": "code",
      "metadata": {
        "id": "3z2aVBeixCwG"
      },
      "source": [
        "path='/content/drive/MyDrive/DailyMail/'"
      ],
      "execution_count": 5,
      "outputs": []
    },
    {
      "cell_type": "markdown",
      "metadata": {
        "id": "B7zqnQn_xR-X"
      },
      "source": [
        "# Data Scraping"
      ]
    },
    {
      "cell_type": "markdown",
      "metadata": {
        "id": "gVfXXnhFrn6f"
      },
      "source": [
        "## get all urls"
      ]
    },
    {
      "cell_type": "code",
      "metadata": {
        "id": "1b_nc68ZrquY"
      },
      "source": [
        "def get_all_links(url):\n",
        "  response = requests.get(url) \n",
        "  soup = BeautifulSoup(response.text, 'html.parser') \n",
        "  all_a=soup.findAll('a')\n",
        "\n",
        "  return all_a\n",
        "\n",
        "def get_news_links(url):\n",
        "  response = requests.get(url) \n",
        "  soup = BeautifulSoup(response.text, 'html.parser') \n",
        "  all_a=soup.find('ul',class_='archive-articles debate link-box').findAll('a')\n",
        "  return all_a\n",
        "\n",
        "def clean_links(contains,all_a):\n",
        "  list_of_links=[]\n",
        "  for i in range(len(all_a)):\n",
        "    try:\n",
        "      \n",
        "      href=all_a[i]['href']\n",
        "\n",
        "      if contains in href:\n",
        "          list_of_links.append(href)\n",
        "    except:\n",
        "      continue\n",
        "  return list_of_links"
      ],
      "execution_count": null,
      "outputs": []
    },
    {
      "cell_type": "code",
      "metadata": {
        "id": "gjY8gsBrsQVg"
      },
      "source": [
        "url_2021='https://www.dailymail.co.uk/home/sitemaparchive/year_2021.html'\n",
        "\n",
        "links2021=get_all_links(url_2021)\n",
        "days2021=clean_links('/day_',links2021)\n",
        "\n"
      ],
      "execution_count": null,
      "outputs": []
    },
    {
      "cell_type": "code",
      "metadata": {
        "colab": {
          "base_uri": "https://localhost:8080/"
        },
        "id": "-Q9QSmYa6Jk9",
        "outputId": "a68448a2-d403-4700-c7a1-bd9aa6f9a520"
      },
      "source": [
        "news_[0]"
      ],
      "execution_count": null,
      "outputs": [
        {
          "output_type": "execute_result",
          "data": {
            "text/plain": [
              "<a href=\"/wires/ap/article-9436061/Barkov-Driedger-lead-Panthers-3-0-win-Blue-Jackets.html\" title=\"\">Barkov, Driedger lead Panthers to 3-0 win over Blue Jackets</a>"
            ]
          },
          "metadata": {
            "tags": []
          },
          "execution_count": 140
        }
      ]
    },
    {
      "cell_type": "code",
      "metadata": {
        "colab": {
          "base_uri": "https://localhost:8080/"
        },
        "id": "-MjgQfz7wbFi",
        "outputId": "ef81fab5-e0a7-4f80-8efe-074d1cc2992d"
      },
      "source": [
        "df=pd.DataFrame(columns=['date','type','link','title'])\n",
        "id=0\n",
        "for i,day in tqdm.tqdm(enumerate(days2021)):\n",
        "  url='https://www.dailymail.co.uk'+day\n",
        "\n",
        "  date=day.split('/')[-1].split('_')[-1].split('.')[0]\n",
        "\n",
        "  news_=get_news_links(url) \n",
        "  for i in range(len(news_)):\n",
        "    link=news_[i]['href']\n",
        "    title=news_[i].get_text()\n",
        "    articleType=link.split('/')[1]\n",
        "    \n",
        "  \n",
        "    df_dict={'date':date,'type':articleType,'link':link,'title':title}\n",
        "    id+=1\n",
        "    row_df=pd.DataFrame(df_dict,index=[id])\n",
        "    df=df.append(row_df,ignore_index=True)\n",
        "\n",
        "\n"
      ],
      "execution_count": null,
      "outputs": [
        {
          "output_type": "stream",
          "text": [
            "\n",
            "\n",
            "0it [00:00, ?it/s]\u001b[A\u001b[A\n",
            "\n",
            "1it [00:04,  4.23s/it]\u001b[A\u001b[A\n",
            "\n",
            "2it [00:07,  3.92s/it]\u001b[A\u001b[A\n",
            "\n",
            "3it [00:10,  3.56s/it]\u001b[A\u001b[A\n",
            "\n",
            "4it [00:13,  3.37s/it]\u001b[A\u001b[A\n",
            "\n",
            "5it [00:16,  3.38s/it]\u001b[A\u001b[A\n",
            "\n",
            "6it [00:22,  4.09s/it]\u001b[A\u001b[A\n",
            "\n",
            "7it [00:27,  4.34s/it]\u001b[A\u001b[A\n",
            "\n",
            "8it [00:34,  5.12s/it]\u001b[A\u001b[A\n",
            "\n",
            "9it [00:39,  5.11s/it]\u001b[A\u001b[A\n",
            "\n",
            "10it [00:42,  4.53s/it]\u001b[A\u001b[A\n",
            "\n",
            "11it [00:45,  4.18s/it]\u001b[A\u001b[A\n",
            "\n",
            "12it [00:49,  4.10s/it]\u001b[A\u001b[A\n",
            "\n",
            "13it [00:56,  4.83s/it]\u001b[A\u001b[A\n",
            "\n",
            "14it [01:02,  5.41s/it]\u001b[A\u001b[A\n",
            "\n",
            "15it [01:09,  5.91s/it]\u001b[A\u001b[A\n",
            "\n",
            "16it [01:17,  6.40s/it]\u001b[A\u001b[A\n",
            "\n",
            "17it [01:25,  6.94s/it]\u001b[A\u001b[A\n",
            "\n",
            "18it [01:30,  6.43s/it]\u001b[A\u001b[A\n",
            "\n",
            "19it [01:35,  5.98s/it]\u001b[A\u001b[A\n",
            "\n",
            "20it [01:45,  6.93s/it]\u001b[A\u001b[A\n",
            "\n",
            "21it [01:54,  7.81s/it]\u001b[A\u001b[A\n",
            "\n",
            "22it [02:05,  8.51s/it]\u001b[A\u001b[A\n",
            "\n",
            "23it [02:15,  9.14s/it]\u001b[A\u001b[A\n",
            "\n",
            "24it [02:27, 10.00s/it]\u001b[A\u001b[A\n",
            "\n",
            "25it [02:34,  8.91s/it]\u001b[A\u001b[A\n",
            "\n",
            "26it [02:40,  8.31s/it]\u001b[A\u001b[A\n",
            "\n",
            "27it [02:52,  9.28s/it]\u001b[A\u001b[A\n",
            "\n",
            "28it [03:04, 10.19s/it]\u001b[A\u001b[A\n",
            "\n",
            "29it [03:17, 10.80s/it]\u001b[A\u001b[A\n",
            "\n",
            "30it [03:30, 11.59s/it]\u001b[A\u001b[A\n",
            "\n",
            "31it [03:43, 12.11s/it]\u001b[A\u001b[A\n",
            "\n",
            "32it [03:51, 10.70s/it]\u001b[A\u001b[A\n",
            "\n",
            "33it [03:59, 10.03s/it]\u001b[A\u001b[A\n",
            "\n",
            "34it [04:14, 11.45s/it]\u001b[A\u001b[A\n",
            "\n",
            "35it [04:30, 12.89s/it]\u001b[A\u001b[A\n",
            "\n",
            "36it [04:45, 13.60s/it]\u001b[A\u001b[A\n",
            "\n",
            "37it [05:01, 14.34s/it]\u001b[A\u001b[A\n",
            "\n",
            "38it [05:17, 14.70s/it]\u001b[A\u001b[A\n",
            "\n",
            "39it [05:25, 12.78s/it]\u001b[A\u001b[A\n",
            "\n",
            "40it [05:34, 11.70s/it]\u001b[A\u001b[A\n",
            "\n",
            "41it [05:50, 12.75s/it]\u001b[A\u001b[A\n",
            "\n",
            "42it [06:07, 14.13s/it]\u001b[A\u001b[A\n",
            "\n",
            "43it [06:25, 15.40s/it]\u001b[A\u001b[A\n",
            "\n",
            "44it [06:43, 16.07s/it]\u001b[A\u001b[A\n",
            "\n",
            "45it [07:01, 16.65s/it]\u001b[A\u001b[A\n",
            "\n",
            "46it [07:20, 17.23s/it]\u001b[A\u001b[A\n",
            "\n",
            "47it [07:38, 17.67s/it]\u001b[A\u001b[A\n",
            "\n",
            "48it [07:57, 17.99s/it]\u001b[A\u001b[A\n",
            "\n",
            "49it [08:08, 15.93s/it]\u001b[A\u001b[A\n",
            "\n",
            "50it [08:20, 14.74s/it]\u001b[A\u001b[A\n",
            "\n",
            "51it [08:39, 15.89s/it]\u001b[A\u001b[A\n",
            "\n",
            "52it [08:59, 17.26s/it]\u001b[A\u001b[A\n",
            "\n",
            "53it [09:20, 18.27s/it]\u001b[A\u001b[A\n",
            "\n",
            "54it [09:41, 19.17s/it]\u001b[A\u001b[A\n",
            "\n",
            "55it [10:01, 19.47s/it]\u001b[A\u001b[A\n",
            "\n",
            "56it [10:14, 17.35s/it]\u001b[A\u001b[A\n",
            "\n",
            "57it [10:28, 16.41s/it]\u001b[A\u001b[A\n",
            "\n",
            "58it [10:47, 17.33s/it]\u001b[A\u001b[A\n",
            "\n",
            "59it [11:10, 18.99s/it]\u001b[A\u001b[A\n",
            "\n",
            "60it [11:33, 20.18s/it]\u001b[A\u001b[A\n",
            "\n",
            "61it [11:57, 21.16s/it]\u001b[A\u001b[A\n",
            "\n",
            "62it [12:19, 21.48s/it]\u001b[A\u001b[A\n",
            "\n",
            "63it [12:32, 18.84s/it]\u001b[A\u001b[A\n",
            "\n",
            "64it [12:46, 17.42s/it]\u001b[A\u001b[A\n",
            "\n",
            "65it [13:10, 19.41s/it]\u001b[A\u001b[A\n",
            "\n",
            "66it [13:33, 20.67s/it]\u001b[A\u001b[A\n",
            "\n",
            "67it [13:58, 21.94s/it]\u001b[A\u001b[A\n",
            "\n",
            "68it [14:25, 23.27s/it]\u001b[A\u001b[A\n",
            "\n",
            "69it [14:50, 23.86s/it]\u001b[A\u001b[A\n",
            "\n",
            "70it [15:05, 21.25s/it]\u001b[A\u001b[A\n",
            "\n",
            "71it [15:21, 19.72s/it]\u001b[A\u001b[A\n",
            "\n",
            "72it [15:35, 18.03s/it]\u001b[A\u001b[A\n",
            "\n",
            "73it [15:48, 16.38s/it]\u001b[A\u001b[A\n",
            "\n",
            "74it [16:01, 15.49s/it]\u001b[A\u001b[A\n",
            "\n",
            "75it [16:24, 17.78s/it]\u001b[A\u001b[A\n",
            "\n",
            "76it [16:49, 19.72s/it]\u001b[A\u001b[A\n",
            "\n",
            "77it [17:15, 21.77s/it]\u001b[A\u001b[A\n",
            "\n",
            "78it [17:42, 23.44s/it]\u001b[A\u001b[A\n",
            "\n",
            "79it [18:09, 24.30s/it]\u001b[A\u001b[A\n",
            "\n",
            "80it [18:25, 21.86s/it]\u001b[A\u001b[A\n",
            "\n",
            "81it [18:42, 20.32s/it]\u001b[A\u001b[A\n",
            "\n",
            "82it [19:10, 22.73s/it]\u001b[A\u001b[A\n",
            "\n",
            "83it [19:40, 25.07s/it]\u001b[A\u001b[A\n",
            "\n",
            "84it [20:11, 26.62s/it]\u001b[A\u001b[A\n",
            "\n",
            "85it [20:42, 27.90s/it]\u001b[A\u001b[A\n",
            "\n",
            "86it [21:13, 28.89s/it]\u001b[A\u001b[A\n",
            "\n",
            "87it [21:30, 25.47s/it]\u001b[A\u001b[A\n",
            "\n",
            "88it [21:49, 23.32s/it]\u001b[A\u001b[A\n",
            "\n",
            "89it [22:18, 25.27s/it]\u001b[A\u001b[A\n",
            "\n",
            "90it [22:53, 27.95s/it]\u001b[A\u001b[A\n",
            "\n",
            "91it [23:26, 29.43s/it]\u001b[A\u001b[A\n",
            "\n",
            "92it [23:58, 30.32s/it]\u001b[A\u001b[A\n",
            "\n",
            "93it [24:29, 30.53s/it]\u001b[A\u001b[A\n",
            "\n",
            "94it [24:47, 26.64s/it]\u001b[A\u001b[A\n",
            "\n",
            "95it [25:05, 24.20s/it]\u001b[A\u001b[A\n",
            "\n",
            "96it [25:37, 26.63s/it]\u001b[A\u001b[A\n",
            "\n",
            "97it [26:11, 28.84s/it]\u001b[A\u001b[A\n",
            "\n",
            "98it [26:46, 30.66s/it]\u001b[A\u001b[A\n",
            "\n",
            "99it [27:21, 31.97s/it]\u001b[A\u001b[A\n",
            "\n",
            "100it [27:57, 33.07s/it]\u001b[A\u001b[A\n",
            "\n",
            "101it [28:17, 29.08s/it]\u001b[A\u001b[A\n",
            "\n",
            "102it [28:38, 16.85s/it]\n"
          ],
          "name": "stderr"
        }
      ]
    },
    {
      "cell_type": "code",
      "metadata": {
        "id": "t9PN5dTVPdjy"
      },
      "source": [
        "df2=df.drop_duplicates().copy()"
      ],
      "execution_count": null,
      "outputs": []
    },
    {
      "cell_type": "code",
      "metadata": {
        "colab": {
          "base_uri": "https://localhost:8080/",
          "height": 402
        },
        "id": "ark4qdMEPxYs",
        "outputId": "d0aa8a16-3cba-45ce-f12a-040da39fca65"
      },
      "source": [
        "df2"
      ],
      "execution_count": null,
      "outputs": [
        {
          "output_type": "execute_result",
          "data": {
            "text/html": [
              "<div>\n",
              "<style scoped>\n",
              "    .dataframe tbody tr th:only-of-type {\n",
              "        vertical-align: middle;\n",
              "    }\n",
              "\n",
              "    .dataframe tbody tr th {\n",
              "        vertical-align: top;\n",
              "    }\n",
              "\n",
              "    .dataframe thead th {\n",
              "        text-align: right;\n",
              "    }\n",
              "</style>\n",
              "<table border=\"1\" class=\"dataframe\">\n",
              "  <thead>\n",
              "    <tr style=\"text-align: right;\">\n",
              "      <th></th>\n",
              "      <th>date</th>\n",
              "      <th>type</th>\n",
              "      <th>link</th>\n",
              "      <th>title</th>\n",
              "    </tr>\n",
              "  </thead>\n",
              "  <tbody>\n",
              "    <tr>\n",
              "      <th>0</th>\n",
              "      <td>20210401</td>\n",
              "      <td>news</td>\n",
              "      <td>/news/article-9429149/Watchdog-calls-ramblers-...</td>\n",
              "      <td>Minorities 'don't feel welcome in the countrys...</td>\n",
              "    </tr>\n",
              "    <tr>\n",
              "      <th>1</th>\n",
              "      <td>20210401</td>\n",
              "      <td>wires</td>\n",
              "      <td>/wires/ap/article-9429151/UN-condemns-violence...</td>\n",
              "      <td>UN condemns violence against Myanmar protester...</td>\n",
              "    </tr>\n",
              "    <tr>\n",
              "      <th>2</th>\n",
              "      <td>20210401</td>\n",
              "      <td>tvshowbiz</td>\n",
              "      <td>/tvshowbiz/article-9429147/Jeannie-Mai-ties-kn...</td>\n",
              "      <td>Jeannie Mai ties the knot with rapper Jeezy du...</td>\n",
              "    </tr>\n",
              "    <tr>\n",
              "      <th>3</th>\n",
              "      <td>20210401</td>\n",
              "      <td>wires</td>\n",
              "      <td>/wires/reuters/article-9429145/Baseball-No-bre...</td>\n",
              "      <td>Baseball-No breaks from COVID-19 as MLB returns</td>\n",
              "    </tr>\n",
              "    <tr>\n",
              "      <th>4</th>\n",
              "      <td>20210401</td>\n",
              "      <td>news</td>\n",
              "      <td>/news/article-9429143/Nurse-pay-app-goes-bust-...</td>\n",
              "      <td>Nurse pay app goes bust after finance company ...</td>\n",
              "    </tr>\n",
              "    <tr>\n",
              "      <th>...</th>\n",
              "      <td>...</td>\n",
              "      <td>...</td>\n",
              "      <td>...</td>\n",
              "      <td>...</td>\n",
              "    </tr>\n",
              "    <tr>\n",
              "      <th>170736</th>\n",
              "      <td>20210131</td>\n",
              "      <td>wires</td>\n",
              "      <td>/wires/ap/article-9205933/Sentencing-delayed-f...</td>\n",
              "      <td>Sentencing delayed for fired VA staffer who ki...</td>\n",
              "    </tr>\n",
              "    <tr>\n",
              "      <th>170737</th>\n",
              "      <td>20210131</td>\n",
              "      <td>wires</td>\n",
              "      <td>/wires/ap/article-9205931/Watson-scores-22-lif...</td>\n",
              "      <td>Watson scores 22 to lift Dayton over Rhode Isl...</td>\n",
              "    </tr>\n",
              "    <tr>\n",
              "      <th>170738</th>\n",
              "      <td>20210131</td>\n",
              "      <td>wires</td>\n",
              "      <td>/wires/ap/article-9205929/Cubs-agree-1-yr-deal...</td>\n",
              "      <td>Cubs agree to 1-yr deal with RHP Trevor Williams</td>\n",
              "    </tr>\n",
              "    <tr>\n",
              "      <th>170739</th>\n",
              "      <td>20210131</td>\n",
              "      <td>tvshowbiz</td>\n",
              "      <td>/tvshowbiz/article-9205927/The-Bold-Type-retur...</td>\n",
              "      <td>The Bold Type will return for a fifth and FINA...</td>\n",
              "    </tr>\n",
              "    <tr>\n",
              "      <th>170740</th>\n",
              "      <td>20210131</td>\n",
              "      <td>news</td>\n",
              "      <td>/news/article-9205925/Ban-Anjem-Choudarys-gosp...</td>\n",
              "      <td>Ban on Anjem Choudary's gospel of hatred is ab...</td>\n",
              "    </tr>\n",
              "  </tbody>\n",
              "</table>\n",
              "<p>170741 rows × 4 columns</p>\n",
              "</div>"
            ],
            "text/plain": [
              "            date  ...                                              title\n",
              "0       20210401  ...  Minorities 'don't feel welcome in the countrys...\n",
              "1       20210401  ...  UN condemns violence against Myanmar protester...\n",
              "2       20210401  ...  Jeannie Mai ties the knot with rapper Jeezy du...\n",
              "3       20210401  ...    Baseball-No breaks from COVID-19 as MLB returns\n",
              "4       20210401  ...  Nurse pay app goes bust after finance company ...\n",
              "...          ...  ...                                                ...\n",
              "170736  20210131  ...  Sentencing delayed for fired VA staffer who ki...\n",
              "170737  20210131  ...  Watson scores 22 to lift Dayton over Rhode Isl...\n",
              "170738  20210131  ...   Cubs agree to 1-yr deal with RHP Trevor Williams\n",
              "170739  20210131  ...  The Bold Type will return for a fifth and FINA...\n",
              "170740  20210131  ...  Ban on Anjem Choudary's gospel of hatred is ab...\n",
              "\n",
              "[170741 rows x 4 columns]"
            ]
          },
          "metadata": {
            "tags": []
          },
          "execution_count": 191
        }
      ]
    },
    {
      "cell_type": "code",
      "metadata": {
        "colab": {
          "base_uri": "https://localhost:8080/",
          "height": 334
        },
        "id": "6oBP0Jh3DXbL",
        "outputId": "7f80f3ad-a8ee-4f99-fb52-4c16089eb291"
      },
      "source": [
        "df2['type'].value_counts().plot.bar()"
      ],
      "execution_count": null,
      "outputs": [
        {
          "output_type": "execute_result",
          "data": {
            "text/plain": [
              "<matplotlib.axes._subplots.AxesSubplot at 0x7fed545c1650>"
            ]
          },
          "metadata": {
            "tags": []
          },
          "execution_count": 190
        },
        {
          "output_type": "display_data",
          "data": {
            "image/png": "[encoded data removed]",
            "text/plain": [
              "<Figure size 432x288 with 1 Axes>"
            ]
          },
          "metadata": {
            "tags": []
          }
        }
      ]
    },
    {
      "cell_type": "code",
      "metadata": {
        "id": "4UQdypLFDtPf"
      },
      "source": [
        "df.to_csv('DailyMail2021.csv')"
      ],
      "execution_count": null,
      "outputs": []
    },
    {
      "cell_type": "markdown",
      "metadata": {
        "id": "gfOEna6gD2c8"
      },
      "source": [
        "# Topic Modelling"
      ]
    },
    {
      "cell_type": "code",
      "metadata": {
        "id": "8mVqHAAyD120"
      },
      "source": [
        "df=pd.read_csv(path+'DailyMail2021.csv')"
      ],
      "execution_count": 6,
      "outputs": []
    },
    {
      "cell_type": "code",
      "metadata": {
        "id": "EFtXE07UD9Zf"
      },
      "source": [
        "df=df[df['type']=='news']"
      ],
      "execution_count": 7,
      "outputs": []
    },
    {
      "cell_type": "code",
      "metadata": {
        "id": "n59OkVf_EBQi"
      },
      "source": [
        "df=df.reset_index()"
      ],
      "execution_count": 8,
      "outputs": []
    },
    {
      "cell_type": "code",
      "metadata": {
        "colab": {
          "base_uri": "https://localhost:8080/",
          "height": 110
        },
        "id": "wNZe8blDW1rh",
        "outputId": "daec410c-2167-41cd-f78a-17a19262a4ef"
      },
      "source": [
        "df[df['Unnamed: 0']==170067]"
      ],
      "execution_count": 9,
      "outputs": [
        {
          "output_type": "execute_result",
          "data": {
            "text/html": [
              "<div>\n",
              "<style scoped>\n",
              "    .dataframe tbody tr th:only-of-type {\n",
              "        vertical-align: middle;\n",
              "    }\n",
              "\n",
              "    .dataframe tbody tr th {\n",
              "        vertical-align: top;\n",
              "    }\n",
              "\n",
              "    .dataframe thead th {\n",
              "        text-align: right;\n",
              "    }\n",
              "</style>\n",
              "<table border=\"1\" class=\"dataframe\">\n",
              "  <thead>\n",
              "    <tr style=\"text-align: right;\">\n",
              "      <th></th>\n",
              "      <th>index</th>\n",
              "      <th>Unnamed: 0</th>\n",
              "      <th>date</th>\n",
              "      <th>type</th>\n",
              "      <th>link</th>\n",
              "      <th>title</th>\n",
              "    </tr>\n",
              "  </thead>\n",
              "  <tbody>\n",
              "    <tr>\n",
              "      <th>25831</th>\n",
              "      <td>170067</td>\n",
              "      <td>170067</td>\n",
              "      <td>20210131</td>\n",
              "      <td>news</td>\n",
              "      <td>/news/article-9207293/BidenLied-trends-Twitter...</td>\n",
              "      <td>#BidenLied trends on Twitter as critics demand...</td>\n",
              "    </tr>\n",
              "  </tbody>\n",
              "</table>\n",
              "</div>"
            ],
            "text/plain": [
              "        index  ...                                              title\n",
              "25831  170067  ...  #BidenLied trends on Twitter as critics demand...\n",
              "\n",
              "[1 rows x 6 columns]"
            ]
          },
          "metadata": {
            "tags": []
          },
          "execution_count": 9
        }
      ]
    },
    {
      "cell_type": "code",
      "metadata": {
        "colab": {
          "base_uri": "https://localhost:8080/"
        },
        "id": "QPrqmxu_QMy0",
        "outputId": "6a7d152b-f7bf-4bff-83cf-00eb4d747cef"
      },
      "source": [
        "import gensim\n",
        "from gensim.utils import simple_preprocess\n",
        "from gensim.parsing.preprocessing import STOPWORDS\n",
        "from nltk.stem import WordNetLemmatizer, SnowballStemmer\n",
        "from nltk.stem.porter import *\n",
        "import numpy as np\n",
        "np.random.seed(2018)\n",
        "import nltk\n",
        "nltk.download('wordnet')"
      ],
      "execution_count": 10,
      "outputs": [
        {
          "output_type": "stream",
          "text": [
            "[nltk_data] Downloading package wordnet to /root/nltk_data...\n",
            "[nltk_data]   Unzipping corpora/wordnet.zip.\n"
          ],
          "name": "stdout"
        },
        {
          "output_type": "execute_result",
          "data": {
            "text/plain": [
              "True"
            ]
          },
          "metadata": {
            "tags": []
          },
          "execution_count": 10
        }
      ]
    },
    {
      "cell_type": "code",
      "metadata": {
        "id": "d-gItPWjQPp_"
      },
      "source": [
        "def lemmatize_stemming(text):\n",
        "    return stemmer.stem(WordNetLemmatizer().lemmatize(text, pos='v'))\n",
        "def preprocess(text):\n",
        "    result = []\n",
        "    for token in gensim.utils.simple_preprocess(text):\n",
        "        if token not in gensim.parsing.preprocessing.STOPWORDS and len(token) > 3:\n",
        "            result.append(lemmatize_stemming(token))\n",
        "    return result\n",
        "\n",
        "stemmer = SnowballStemmer('english')"
      ],
      "execution_count": 11,
      "outputs": []
    },
    {
      "cell_type": "code",
      "metadata": {
        "colab": {
          "base_uri": "https://localhost:8080/"
        },
        "id": "jFCZGRI6QU2Z",
        "outputId": "ff42a589-fffe-48fe-8096-5e7720016876"
      },
      "source": [
        "doc_sample = df.iloc[0].title\n",
        "print('original document: ')\n",
        "words = []\n",
        "for word in doc_sample.split(' '):\n",
        "    words.append(word)\n",
        "print(words)\n",
        "print('\\n\\n tokenized and lemmatized document: ')\n",
        "print(preprocess(doc_sample))"
      ],
      "execution_count": 12,
      "outputs": [
        {
          "output_type": "stream",
          "text": [
            "original document: \n",
            "['Minorities', \"'don't\", 'feel', 'welcome', 'in', 'the', \"countryside':\", 'Watchdog', 'calls', 'on', 'ramblers', 'to', 'be', 'friendly', 'towards', 'strangers', 'during', 'green', 'belt', 'visits']\n",
            "\n",
            "\n",
            " tokenized and lemmatized document: \n",
            "['minor', 'feel', 'welcom', 'countrysid', 'watchdog', 'call', 'rambler', 'friend', 'stranger', 'green', 'belt', 'visit']\n"
          ],
          "name": "stdout"
        }
      ]
    },
    {
      "cell_type": "code",
      "metadata": {
        "colab": {
          "base_uri": "https://localhost:8080/",
          "height": 54
        },
        "id": "fraSMMCe19b2",
        "outputId": "f77452fe-0223-4f0d-ffb1-0ec2984f3bc5"
      },
      "source": [
        "df.iloc[4310].title"
      ],
      "execution_count": 13,
      "outputs": [
        {
          "output_type": "execute_result",
          "data": {
            "application/vnd.google.colaboratory.intrinsic+json": {
              "type": "string"
            },
            "text/plain": [
              "\"Why wearing two face coverings may be pointless: Double-masking 'is only slightly better at stopping the spread of Covid particles than relying on one'\""
            ]
          },
          "metadata": {
            "tags": []
          },
          "execution_count": 13
        }
      ]
    },
    {
      "cell_type": "code",
      "metadata": {
        "colab": {
          "base_uri": "https://localhost:8080/"
        },
        "id": "noJSlvMQRcJK",
        "outputId": "04bfae4d-0299-408d-9d68-c0bceb785286"
      },
      "source": [
        "processed_docs = df['title'].map(preprocess)\n",
        "processed_docs[:10]"
      ],
      "execution_count": 15,
      "outputs": [
        {
          "output_type": "execute_result",
          "data": {
            "text/plain": [
              "0    [minor, feel, welcom, countrysid, watchdog, ca...\n",
              "1    [nurs, go, bust, financ, compani, david, camer...\n",
              "2    [factori, growth, hit, year, high, britain, co...\n",
              "3    [seven, british, peopl, die, brain, blood, clo...\n",
              "4    [fight, break, walmart, custom, take, drunken,...\n",
              "5    [fear, tank, prospect, young, peopl, face, emp...\n",
              "6    [furious, tori, urg, demand, refund, million, ...\n",
              "7    [australian, doctor, describ, shock, advers, i...\n",
              "8    [scienc, support, puberti, blocker, children, ...\n",
              "9    [lazi, lawn, garden, expert, let, wild, brown,...\n",
              "Name: title, dtype: object"
            ]
          },
          "metadata": {
            "tags": []
          },
          "execution_count": 15
        }
      ]
    },
    {
      "cell_type": "code",
      "metadata": {
        "colab": {
          "base_uri": "https://localhost:8080/"
        },
        "id": "12A-tNtQRkQY",
        "outputId": "be90053f-49af-48b1-dcb4-249e74483964"
      },
      "source": [
        "dictionary = gensim.corpora.Dictionary(processed_docs)\n",
        "count = 0\n",
        "for k, v in dictionary.iteritems():\n",
        "    print(k, v)\n",
        "    count += 1\n",
        "    if count > 10:\n",
        "        break"
      ],
      "execution_count": 16,
      "outputs": [
        {
          "output_type": "stream",
          "text": [
            "0 belt\n",
            "1 call\n",
            "2 countrysid\n",
            "3 feel\n",
            "4 friend\n",
            "5 green\n",
            "6 minor\n",
            "7 rambler\n",
            "8 stranger\n",
            "9 visit\n",
            "10 watchdog\n"
          ],
          "name": "stdout"
        }
      ]
    },
    {
      "cell_type": "code",
      "metadata": {
        "id": "JIYjKuErRmeW"
      },
      "source": [
        "dictionary.filter_extremes(no_below=15, no_above=0.85, keep_n=100000)"
      ],
      "execution_count": 17,
      "outputs": []
    },
    {
      "cell_type": "code",
      "metadata": {
        "colab": {
          "base_uri": "https://localhost:8080/"
        },
        "id": "KmGiP2rCRufh",
        "outputId": "cf1e5c1a-0d22-47f4-9708-abf8f576de5c"
      },
      "source": [
        "bow_corpus = [dictionary.doc2bow(doc) for doc in processed_docs]\n",
        "bow_corpus[4310]"
      ],
      "execution_count": 18,
      "outputs": [
        {
          "output_type": "execute_result",
          "data": {
            "text/plain": [
              "[(36, 1),\n",
              " (55, 1),\n",
              " (273, 1),\n",
              " (347, 1),\n",
              " (355, 1),\n",
              " (399, 1),\n",
              " (783, 1),\n",
              " (1383, 1),\n",
              " (2460, 1)]"
            ]
          },
          "metadata": {
            "tags": []
          },
          "execution_count": 18
        }
      ]
    },
    {
      "cell_type": "code",
      "metadata": {
        "colab": {
          "base_uri": "https://localhost:8080/"
        },
        "id": "902ns3A1R02a",
        "outputId": "577d2fb0-cdd8-4f2e-bccf-bf2f5c8c8e54"
      },
      "source": [
        "bow_doc_4310 = bow_corpus[4310]\n",
        "for i in range(len(bow_doc_4310)):\n",
        "    print(\"Word {} (\\\"{}\\\") appears {} time.\".format(bow_doc_4310[i][0], \n",
        "                                               dictionary[bow_doc_4310[i][0]], \n",
        "bow_doc_4310[i][1]))"
      ],
      "execution_count": null,
      "outputs": [
        {
          "output_type": "stream",
          "text": [
            "Word 36 (\"covid\") appears 1 time.\n",
            "Word 55 (\"face\") appears 1 time.\n",
            "Word 273 (\"mask\") appears 1 time.\n",
            "Word 347 (\"doubl\") appears 1 time.\n",
            "Word 355 (\"stop\") appears 1 time.\n",
            "Word 399 (\"cover\") appears 1 time.\n",
            "Word 783 (\"wear\") appears 1 time.\n",
            "Word 1383 (\"spread\") appears 1 time.\n",
            "Word 2460 (\"better\") appears 1 time.\n"
          ],
          "name": "stdout"
        }
      ]
    },
    {
      "cell_type": "code",
      "metadata": {
        "colab": {
          "base_uri": "https://localhost:8080/"
        },
        "id": "GpQqkpyFR5JJ",
        "outputId": "f57db5b1-61df-478b-b3ed-9ddcada0b1b7"
      },
      "source": [
        "from gensim import corpora, models\n",
        "tfidf = models.TfidfModel(bow_corpus)\n",
        "corpus_tfidf = tfidf[bow_corpus]\n",
        "from pprint import pprint\n",
        "for doc in corpus_tfidf:\n",
        "    pprint(doc)\n",
        "    break"
      ],
      "execution_count": 19,
      "outputs": [
        {
          "output_type": "stream",
          "text": [
            "[(0, 0.38559002770394213),\n",
            " (1, 0.1803917278193779),\n",
            " (2, 0.3883493787743854),\n",
            " (3, 0.2929128481162207),\n",
            " (4, 0.22004431687340506),\n",
            " (5, 0.2590964984748521),\n",
            " (6, 0.3046773543344673),\n",
            " (7, 0.33629766225884233),\n",
            " (8, 0.2583334282096987),\n",
            " (9, 0.3137729087897606),\n",
            " (10, 0.3090331297246574)]\n"
          ],
          "name": "stdout"
        }
      ]
    },
    {
      "cell_type": "code",
      "metadata": {
        "id": "R-X0FBRFS8z0"
      },
      "source": [
        "import seaborn as sns\n",
        "import matplotlib.pyplot as plt\n",
        "import numpy as np\n",
        "from gensim.models import LdaModel, CoherenceModel\n",
        "from gensim import corpora"
      ],
      "execution_count": 20,
      "outputs": []
    },
    {
      "cell_type": "code",
      "metadata": {
        "colab": {
          "base_uri": "https://localhost:8080/"
        },
        "id": "vvg_66qFS_DV",
        "outputId": "e40c5438-8545-498a-be4c-eb2c40212c64"
      },
      "source": [
        "dirichlet_dict = dictionary\n",
        "\n",
        "\n",
        "# Considering 1-15 topics, as the last is cut off\n",
        "num_topics = list(range(25)[1:])\n",
        "num_keywords = 15\n",
        "\n",
        "LDA_models = {}\n",
        "LDA_topics = {}\n",
        "for i in num_topics:\n",
        "    print(i)\n",
        "    LDA_models[i] =gensim.models.LdaMulticore(bow_corpus, num_topics=i, id2word=dirichlet_dict, passes=10, workers=8)\n",
        "\n",
        "    shown_topics = LDA_models[i].show_topics(num_topics=i, \n",
        "                                             num_words=num_keywords,\n",
        "                                             formatted=False)\n",
        "    LDA_topics[i] = [[word[0] for word in topic[1]] for topic in shown_topics]"
      ],
      "execution_count": null,
      "outputs": [
        {
          "output_type": "stream",
          "text": [
            "1\n",
            "2\n",
            "3\n",
            "4\n",
            "5\n",
            "6\n",
            "7\n",
            "8\n",
            "9\n",
            "10\n",
            "11\n",
            "12\n",
            "13\n",
            "14\n",
            "15\n",
            "16\n",
            "17\n",
            "18\n",
            "19\n",
            "20\n",
            "21\n",
            "22\n",
            "23\n",
            "24\n"
          ],
          "name": "stdout"
        }
      ]
    },
    {
      "cell_type": "code",
      "metadata": {
        "id": "r-UeequgThfm"
      },
      "source": [
        "def jaccard_similarity(topic_1, topic_2):\n",
        "    \"\"\"\n",
        "    Derives the Jaccard similarity of two topics\n",
        "\n",
        "    Jaccard similarity:\n",
        "    - A statistic used for comparing the similarity and diversity of sample sets\n",
        "    - J(A,B) = (A ∩ B)/(A ∪ B)\n",
        "    - Goal is low Jaccard scores for coverage of the diverse elements\n",
        "    \"\"\"\n",
        "    intersection = set(topic_1).intersection(set(topic_2))\n",
        "    union = set(topic_1).union(set(topic_2))\n",
        "                    \n",
        "    return float(len(intersection))/float(len(union))"
      ],
      "execution_count": null,
      "outputs": []
    },
    {
      "cell_type": "code",
      "metadata": {
        "id": "_yFfnu0fTjuD"
      },
      "source": [
        "LDA_stability = {}\n",
        "for i in range(0, len(num_topics)-1):\n",
        "    jaccard_sims = []\n",
        "    for t1, topic1 in enumerate(LDA_topics[num_topics[i]]): # pylint: disable=unused-variable\n",
        "        sims = []\n",
        "        for t2, topic2 in enumerate(LDA_topics[num_topics[i+1]]): # pylint: disable=unused-variable\n",
        "            sims.append(jaccard_similarity(topic1, topic2))    \n",
        "        \n",
        "        jaccard_sims.append(sims)    \n",
        "    \n",
        "    LDA_stability[num_topics[i]] = jaccard_sims\n",
        "                \n",
        "mean_stabilities = [np.array(LDA_stability[i]).mean() for i in num_topics[:-1]]"
      ],
      "execution_count": null,
      "outputs": []
    },
    {
      "cell_type": "code",
      "metadata": {
        "id": "ykaq0d15TlfF"
      },
      "source": [
        "coherences = [CoherenceModel(model=LDA_models[i], texts=processed_docs, dictionary=dirichlet_dict, coherence='c_v').get_coherence() for i in num_topics[:-1]]"
      ],
      "execution_count": null,
      "outputs": []
    },
    {
      "cell_type": "code",
      "metadata": {
        "id": "271DRBj3UAHZ"
      },
      "source": [
        "coh_sta_diffs = [coherences[i] - mean_stabilities[i] for i in range(num_keywords)[:-2]] # limit topic numbers to the number of keywords\n",
        "coh_sta_max = max(coh_sta_diffs)\n",
        "coh_sta_max_idxs = [i for i, j in enumerate(coh_sta_diffs) if j == coh_sta_max]\n",
        "ideal_topic_num_index = coh_sta_max_idxs[0] # choose less topics in case there's more than one max\n",
        "ideal_topic_num = num_topics[ideal_topic_num_index]"
      ],
      "execution_count": null,
      "outputs": []
    },
    {
      "cell_type": "code",
      "metadata": {
        "colab": {
          "base_uri": "https://localhost:8080/",
          "height": 639
        },
        "id": "Vvut39pRUBm3",
        "outputId": "1776fdbb-b1c5-42db-ca5d-0d0eccb9bc8c"
      },
      "source": [
        "plt.figure(figsize=(20,10))\n",
        "ax = sns.lineplot(x=num_topics[:-1], y=mean_stabilities, label='Average Topic Overlap')\n",
        "ax = sns.lineplot(x=num_topics[:-1], y=coherences, label='Topic Coherence')\n",
        "\n",
        "ax.axvline(x=ideal_topic_num, label='Ideal Number of Topics', color='black')\n",
        "ax.axvspan(xmin=ideal_topic_num - 1, xmax=ideal_topic_num + 1, alpha=0.5, facecolor='grey')\n",
        "\n",
        "y_max = max(max(mean_stabilities), max(coherences)) + (0.10 * max(max(mean_stabilities), max(coherences)))\n",
        "ax.set_ylim([0, y_max])\n",
        "ax.set_xlim([1, num_topics[-1]-1])\n",
        "                \n",
        "ax.axes.set_title('Model Metrics per Number of Topics', fontsize=25)\n",
        "ax.set_ylabel('Metric Level', fontsize=20)\n",
        "ax.set_xlabel('Number of Topics', fontsize=20)\n",
        "plt.legend(fontsize=20)\n",
        "plt.show()   "
      ],
      "execution_count": null,
      "outputs": [
        {
          "output_type": "display_data",
          "data": {
            "image/png": "[encoded data removed]",
            "text/plain": [
              "<Figure size 1440x720 with 1 Axes>"
            ]
          },
          "metadata": {
            "tags": []
          }
        }
      ]
    },
    {
      "cell_type": "markdown",
      "metadata": {
        "id": "01bwBWiXzAqQ"
      },
      "source": [
        "Ideal number of topics is 10"
      ]
    },
    {
      "cell_type": "code",
      "metadata": {
        "id": "AS_Lwmd8zDjF"
      },
      "source": [
        "lda_model = gensim.models.LdaMulticore(bow_corpus, num_topics=10, id2word=dictionary, passes=25, workers=2)"
      ],
      "execution_count": 21,
      "outputs": []
    },
    {
      "cell_type": "code",
      "metadata": {
        "id": "tmBl0ir0ze_u"
      },
      "source": [
        "lda_model.save(path+'BestLDA')"
      ],
      "execution_count": 22,
      "outputs": []
    },
    {
      "cell_type": "code",
      "metadata": {
        "colab": {
          "base_uri": "https://localhost:8080/"
        },
        "id": "qLZ6nTYe3VA-",
        "outputId": "6e5a887b-87d6-4f65-e888-a102b9d6e41d"
      },
      "source": [
        "for idx, topic in lda_model.print_topics(-1):\n",
        "    print('Topic: {} \\nWords: {}'.format(idx, topic))"
      ],
      "execution_count": 23,
      "outputs": [
        {
          "output_type": "stream",
          "text": [
            "Topic: 0 \n",
            "Words: 0.059*\"covid\" + 0.037*\"vaccin\" + 0.013*\"bori\" + 0.012*\"say\" + 0.012*\"warn\" + 0.011*\"johnson\" + 0.011*\"peopl\" + 0.011*\"lockdown\" + 0.011*\"week\" + 0.010*\"death\"\n",
            "Topic: 1 \n",
            "Words: 0.024*\"school\" + 0.022*\"year\" + 0.021*\"home\" + 0.020*\"million\" + 0.012*\"star\" + 0.010*\"famili\" + 0.010*\"children\" + 0.009*\"teacher\" + 0.008*\"open\" + 0.008*\"reveal\"\n",
            "Topic: 2 \n",
            "Words: 0.032*\"year\" + 0.017*\"jail\" + 0.017*\"murder\" + 0.015*\"death\" + 0.014*\"mother\" + 0.013*\"die\" + 0.013*\"kill\" + 0.013*\"charg\" + 0.011*\"woman\" + 0.010*\"father\"\n",
            "Topic: 3 \n",
            "Words: 0.017*\"australia\" + 0.017*\"covid\" + 0.014*\"travel\" + 0.013*\"lockdown\" + 0.011*\"hotel\" + 0.011*\"quarantin\" + 0.009*\"australian\" + 0.009*\"coronavirus\" + 0.008*\"million\" + 0.008*\"year\"\n",
            "Topic: 4 \n",
            "Words: 0.018*\"miss\" + 0.010*\"snow\" + 0.010*\"water\" + 0.010*\"bodi\" + 0.009*\"home\" + 0.009*\"day\" + 0.009*\"near\" + 0.008*\"flood\" + 0.008*\"storm\" + 0.008*\"year\"\n",
            "Topic: 5 \n",
            "Words: 0.022*\"say\" + 0.016*\"claim\" + 0.010*\"harri\" + 0.009*\"princ\" + 0.009*\"accus\" + 0.009*\"call\" + 0.008*\"meghan\" + 0.008*\"royal\" + 0.007*\"biden\" + 0.007*\"interview\"\n",
            "Topic: 6 \n",
            "Words: 0.025*\"capitol\" + 0.016*\"riot\" + 0.015*\"protest\" + 0.014*\"maga\" + 0.012*\"say\" + 0.011*\"polic\" + 0.011*\"trump\" + 0.011*\"anti\" + 0.010*\"media\" + 0.009*\"facebook\"\n",
            "Topic: 7 \n",
            "Words: 0.029*\"moment\" + 0.022*\"polic\" + 0.013*\"driver\" + 0.011*\"woman\" + 0.010*\"leav\" + 0.009*\"kill\" + 0.008*\"crash\" + 0.008*\"park\" + 0.008*\"shoot\" + 0.008*\"dead\"\n",
            "Topic: 8 \n",
            "Words: 0.010*\"attack\" + 0.010*\"chines\" + 0.009*\"share\" + 0.009*\"secur\" + 0.008*\"citi\" + 0.008*\"fake\" + 0.008*\"china\" + 0.007*\"bomb\" + 0.007*\"trade\" + 0.006*\"gamestop\"\n",
            "Topic: 9 \n",
            "Words: 0.044*\"trump\" + 0.031*\"biden\" + 0.020*\"presid\" + 0.019*\"say\" + 0.014*\"donald\" + 0.012*\"elect\" + 0.011*\"republican\" + 0.010*\"vote\" + 0.010*\"senat\" + 0.009*\"hous\"\n"
          ],
          "name": "stdout"
        }
      ]
    },
    {
      "cell_type": "code",
      "metadata": {
        "colab": {
          "base_uri": "https://localhost:8080/"
        },
        "id": "GCKXdZfI1Ro5",
        "outputId": "a2ebfe84-e7cf-4fc4-9ebc-4e28bb54ce8c"
      },
      "source": [
        "processed_docs[6]"
      ],
      "execution_count": 24,
      "outputs": [
        {
          "output_type": "execute_result",
          "data": {
            "text/plain": [
              "['furious',\n",
              " 'tori',\n",
              " 'urg',\n",
              " 'demand',\n",
              " 'refund',\n",
              " 'million',\n",
              " 'invest',\n",
              " 'dutch',\n",
              " 'vaccin',\n",
              " 'factori',\n",
              " 'astrazeneca',\n",
              " 'jab',\n",
              " 'impos',\n",
              " 'export']"
            ]
          },
          "metadata": {
            "tags": []
          },
          "execution_count": 24
        }
      ]
    },
    {
      "cell_type": "code",
      "metadata": {
        "colab": {
          "base_uri": "https://localhost:8080/",
          "height": 343
        },
        "id": "sTWdFgwOOZBF",
        "outputId": "2ca19ced-3096-40fc-b11f-fd5da4cf37b2"
      },
      "source": [
        "df.head(10)"
      ],
      "execution_count": null,
      "outputs": [
        {
          "output_type": "execute_result",
          "data": {
            "text/html": [
              "<div>\n",
              "<style scoped>\n",
              "    .dataframe tbody tr th:only-of-type {\n",
              "        vertical-align: middle;\n",
              "    }\n",
              "\n",
              "    .dataframe tbody tr th {\n",
              "        vertical-align: top;\n",
              "    }\n",
              "\n",
              "    .dataframe thead th {\n",
              "        text-align: right;\n",
              "    }\n",
              "</style>\n",
              "<table border=\"1\" class=\"dataframe\">\n",
              "  <thead>\n",
              "    <tr style=\"text-align: right;\">\n",
              "      <th></th>\n",
              "      <th>index</th>\n",
              "      <th>Unnamed: 0</th>\n",
              "      <th>date</th>\n",
              "      <th>type</th>\n",
              "      <th>link</th>\n",
              "      <th>title</th>\n",
              "    </tr>\n",
              "  </thead>\n",
              "  <tbody>\n",
              "    <tr>\n",
              "      <th>0</th>\n",
              "      <td>0</td>\n",
              "      <td>0</td>\n",
              "      <td>20210401</td>\n",
              "      <td>news</td>\n",
              "      <td>/news/article-9429149/Watchdog-calls-ramblers-...</td>\n",
              "      <td>Minorities 'don't feel welcome in the countrys...</td>\n",
              "    </tr>\n",
              "    <tr>\n",
              "      <th>1</th>\n",
              "      <td>4</td>\n",
              "      <td>4</td>\n",
              "      <td>20210401</td>\n",
              "      <td>news</td>\n",
              "      <td>/news/article-9429143/Nurse-pay-app-goes-bust-...</td>\n",
              "      <td>Nurse pay app goes bust after finance company ...</td>\n",
              "    </tr>\n",
              "    <tr>\n",
              "      <th>2</th>\n",
              "      <td>10</td>\n",
              "      <td>10</td>\n",
              "      <td>20210401</td>\n",
              "      <td>news</td>\n",
              "      <td>/news/article-9429131/Britain-comes-roaring-pa...</td>\n",
              "      <td>Factory growth hits ten-year high: Britain com...</td>\n",
              "    </tr>\n",
              "    <tr>\n",
              "      <th>3</th>\n",
              "      <td>14</td>\n",
              "      <td>14</td>\n",
              "      <td>20210401</td>\n",
              "      <td>news</td>\n",
              "      <td>/news/article-9429125/UK-regulator-total-30-ca...</td>\n",
              "      <td>Seven British people died from a brain blood c...</td>\n",
              "    </tr>\n",
              "    <tr>\n",
              "      <th>4</th>\n",
              "      <td>22</td>\n",
              "      <td>22</td>\n",
              "      <td>20210401</td>\n",
              "      <td>news</td>\n",
              "      <td>/news/article-9429107/Drunken-Walmart-shoplift...</td>\n",
              "      <td>Fight breaks out in Walmart when customer take...</td>\n",
              "    </tr>\n",
              "    <tr>\n",
              "      <th>5</th>\n",
              "      <td>26</td>\n",
              "      <td>26</td>\n",
              "      <td>20210401</td>\n",
              "      <td>news</td>\n",
              "      <td>/news/article-9429099/Fear-tanking-job-prospec...</td>\n",
              "      <td>Fear of tanking job prospects for under 25s: Y...</td>\n",
              "    </tr>\n",
              "    <tr>\n",
              "      <th>6</th>\n",
              "      <td>28</td>\n",
              "      <td>28</td>\n",
              "      <td>20210401</td>\n",
              "      <td>news</td>\n",
              "      <td>/news/article-9429095/UK-taxpayers-pumped-21m-...</td>\n",
              "      <td>Furious Tory MP urges No10 to demand refund of...</td>\n",
              "    </tr>\n",
              "    <tr>\n",
              "      <th>7</th>\n",
              "      <td>36</td>\n",
              "      <td>36</td>\n",
              "      <td>20210401</td>\n",
              "      <td>news</td>\n",
              "      <td>/news/article-9429079/ER-doctor-opens-adverse-...</td>\n",
              "      <td>Australian ER doctor describes the  'shocking'...</td>\n",
              "    </tr>\n",
              "    <tr>\n",
              "      <th>8</th>\n",
              "      <td>37</td>\n",
              "      <td>37</td>\n",
              "      <td>20210401</td>\n",
              "      <td>news</td>\n",
              "      <td>/news/article-9429077/Science-supports-use-pub...</td>\n",
              "      <td>Science that supports use of puberty blockers ...</td>\n",
              "    </tr>\n",
              "    <tr>\n",
              "      <th>9</th>\n",
              "      <td>45</td>\n",
              "      <td>45</td>\n",
              "      <td>20210401</td>\n",
              "      <td>news</td>\n",
              "      <td>/news/article-9429059/Garden-experts-say-letti...</td>\n",
              "      <td>Make yours a lazy lawn: Garden experts say let...</td>\n",
              "    </tr>\n",
              "  </tbody>\n",
              "</table>\n",
              "</div>"
            ],
            "text/plain": [
              "   index  ...                                              title\n",
              "0      0  ...  Minorities 'don't feel welcome in the countrys...\n",
              "1      4  ...  Nurse pay app goes bust after finance company ...\n",
              "2     10  ...  Factory growth hits ten-year high: Britain com...\n",
              "3     14  ...  Seven British people died from a brain blood c...\n",
              "4     22  ...  Fight breaks out in Walmart when customer take...\n",
              "5     26  ...  Fear of tanking job prospects for under 25s: Y...\n",
              "6     28  ...  Furious Tory MP urges No10 to demand refund of...\n",
              "7     36  ...  Australian ER doctor describes the  'shocking'...\n",
              "8     37  ...  Science that supports use of puberty blockers ...\n",
              "9     45  ...  Make yours a lazy lawn: Garden experts say let...\n",
              "\n",
              "[10 rows x 6 columns]"
            ]
          },
          "metadata": {
            "tags": []
          },
          "execution_count": 159
        }
      ]
    },
    {
      "cell_type": "code",
      "metadata": {
        "colab": {
          "base_uri": "https://localhost:8080/"
        },
        "id": "dJzGi04l1VdQ",
        "outputId": "c0153e03-ce95-4944-a999-b7385e517f6e"
      },
      "source": [
        "for index, score in sorted(lda_model[bow_corpus[6]], key=lambda tup: -1*tup[1]):\n",
        "    print(\"\\nScore: {}\\t \\nTopic: {}\".format(score, lda_model.print_topic(index, 10)))"
      ],
      "execution_count": 25,
      "outputs": [
        {
          "output_type": "stream",
          "text": [
            "\n",
            "Score: 0.6957973837852478\t \n",
            "Topic: 0.059*\"covid\" + 0.037*\"vaccin\" + 0.013*\"bori\" + 0.012*\"say\" + 0.012*\"warn\" + 0.011*\"johnson\" + 0.011*\"peopl\" + 0.011*\"lockdown\" + 0.011*\"week\" + 0.010*\"death\"\n",
            "\n",
            "Score: 0.1694924384355545\t \n",
            "Topic: 0.017*\"australia\" + 0.017*\"covid\" + 0.014*\"travel\" + 0.013*\"lockdown\" + 0.011*\"hotel\" + 0.011*\"quarantin\" + 0.009*\"australian\" + 0.009*\"coronavirus\" + 0.008*\"million\" + 0.008*\"year\"\n",
            "\n",
            "Score: 0.08803815394639969\t \n",
            "Topic: 0.010*\"attack\" + 0.010*\"chines\" + 0.009*\"share\" + 0.009*\"secur\" + 0.008*\"citi\" + 0.008*\"fake\" + 0.008*\"china\" + 0.007*\"bomb\" + 0.007*\"trade\" + 0.006*\"gamestop\"\n"
          ],
          "name": "stdout"
        }
      ]
    },
    {
      "cell_type": "markdown",
      "metadata": {
        "id": "EeL7uSwB9r46"
      },
      "source": [
        "# Sentiment Analysis"
      ]
    },
    {
      "cell_type": "code",
      "metadata": {
        "id": "tGGNDIwzPNVq",
        "colab": {
          "base_uri": "https://localhost:8080/"
        },
        "outputId": "da7b9720-a7e1-4116-d878-6580674f958f"
      },
      "source": [
        "!pip3 install flair\n",
        "import flair"
      ],
      "execution_count": 26,
      "outputs": [
        {
          "output_type": "stream",
          "text": [
            "Collecting flair\n",
            "\u001b[?25l  Downloading https://files.pythonhosted.org/packages/f0/3a/1b46a0220d6176b22bcb9336619d1731301bc2c75fa926a9ef953e6e4d58/flair-0.8.0.post1-py3-none-any.whl (284kB)\n",
            "\u001b[K     |████████████████████████████████| 286kB 6.1MB/s \n",
            "\u001b[?25hRequirement already satisfied: python-dateutil>=2.6.1 in /usr/local/lib/python3.7/dist-packages (from flair) (2.8.1)\n",
            "Collecting transformers>=4.0.0\n",
            "\u001b[?25l  Downloading https://files.pythonhosted.org/packages/81/91/61d69d58a1af1bd81d9ca9d62c90a6de3ab80d77f27c5df65d9a2c1f5626/transformers-4.5.0-py3-none-any.whl (2.1MB)\n",
            "\u001b[K     |████████████████████████████████| 2.2MB 49.2MB/s \n",
            "\u001b[?25hRequirement already satisfied: regex in /usr/local/lib/python3.7/dist-packages (from flair) (2019.12.20)\n",
            "Requirement already satisfied: gensim<=3.8.3,>=3.4.0 in /usr/local/lib/python3.7/dist-packages (from flair) (3.6.0)\n",
            "Collecting segtok>=1.5.7\n",
            "  Downloading https://files.pythonhosted.org/packages/41/08/582dab5f4b1d5ca23bc6927b4bb977c8ff7f3a87a3b98844ef833e2f5623/segtok-1.5.10.tar.gz\n",
            "Requirement already satisfied: numpy<1.20.0 in /usr/local/lib/python3.7/dist-packages (from flair) (1.19.5)\n",
            "Requirement already satisfied: tabulate in /usr/local/lib/python3.7/dist-packages (from flair) (0.8.9)\n",
            "Collecting langdetect\n",
            "\u001b[?25l  Downloading https://files.pythonhosted.org/packages/56/a3/8407c1e62d5980188b4acc45ef3d94b933d14a2ebc9ef3505f22cf772570/langdetect-1.0.8.tar.gz (981kB)\n",
            "\u001b[K     |████████████████████████████████| 983kB 42.8MB/s \n",
            "\u001b[?25hCollecting sentencepiece==0.1.95\n",
            "\u001b[?25l  Downloading https://files.pythonhosted.org/packages/f5/99/e0808cb947ba10f575839c43e8fafc9cc44e4a7a2c8f79c60db48220a577/sentencepiece-0.1.95-cp37-cp37m-manylinux2014_x86_64.whl (1.2MB)\n",
            "\u001b[K     |████████████████████████████████| 1.2MB 49.6MB/s \n",
            "\u001b[?25hCollecting deprecated>=1.2.4\n",
            "  Downloading https://files.pythonhosted.org/packages/fb/73/994edfcba74443146c84b91921fcc269374354118d4f452fb0c54c1cbb12/Deprecated-1.2.12-py2.py3-none-any.whl\n",
            "Collecting torch<=1.7.1,>=1.5.0\n",
            "\u001b[?25l  Downloading https://files.pythonhosted.org/packages/90/5d/095ddddc91c8a769a68c791c019c5793f9c4456a688ddd235d6670924ecb/torch-1.7.1-cp37-cp37m-manylinux1_x86_64.whl (776.8MB)\n",
            "\u001b[K     |████████████████████████████████| 776.8MB 15kB/s \n",
            "\u001b[?25hCollecting ftfy\n",
            "\u001b[?25l  Downloading https://files.pythonhosted.org/packages/78/50/ba5ec9ff8b56e09c0aa8e13d2cc6e24b31bdd23e2bab8f510929bcc4ac48/ftfy-6.0.tar.gz (63kB)\n",
            "\u001b[K     |████████████████████████████████| 71kB 7.4MB/s \n",
            "\u001b[?25hRequirement already satisfied: tqdm>=4.26.0 in /usr/local/lib/python3.7/dist-packages (from flair) (4.41.1)\n",
            "Collecting janome\n",
            "\u001b[?25l  Downloading https://files.pythonhosted.org/packages/a8/63/98858cbead27df7536c7e300c169da0999e9704d02220dc6700b804eeff0/Janome-0.4.1-py2.py3-none-any.whl (19.7MB)\n",
            "\u001b[K     |████████████████████████████████| 19.7MB 25.3MB/s \n",
            "\u001b[?25hRequirement already satisfied: scikit-learn>=0.21.3 in /usr/local/lib/python3.7/dist-packages (from flair) (0.22.2.post1)\n",
            "Collecting gdown==3.12.2\n",
            "  Downloading https://files.pythonhosted.org/packages/50/21/92c3cfe56f5c0647145c4b0083d0733dd4890a057eb100a8eeddf949ffe9/gdown-3.12.2.tar.gz\n",
            "  Installing build dependencies ... \u001b[?25l\u001b[?25hdone\n",
            "  Getting requirements to build wheel ... \u001b[?25l\u001b[?25hdone\n",
            "    Preparing wheel metadata ... \u001b[?25l\u001b[?25hdone\n",
            "Collecting bpemb>=0.3.2\n",
            "  Downloading https://files.pythonhosted.org/packages/f2/6f/9191b85109772636a8f8accb122900c34db26c091d2793218aa94954524c/bpemb-0.3.3-py3-none-any.whl\n",
            "Requirement already satisfied: hyperopt>=0.1.1 in /usr/local/lib/python3.7/dist-packages (from flair) (0.1.2)\n",
            "Collecting huggingface-hub\n",
            "  Downloading https://files.pythonhosted.org/packages/a1/88/7b1e45720ecf59c6c6737ff332f41c955963090a18e72acbcbeac6b25e86/huggingface_hub-0.0.8-py3-none-any.whl\n",
            "Requirement already satisfied: matplotlib>=2.2.3 in /usr/local/lib/python3.7/dist-packages (from flair) (3.2.2)\n",
            "Collecting konoha<5.0.0,>=4.0.0\n",
            "  Downloading https://files.pythonhosted.org/packages/02/be/4dd30d56a0a19619deb9bf41ba8202709fa83b1b301b876572cd6dc38117/konoha-4.6.4-py3-none-any.whl\n",
            "Collecting sqlitedict>=1.6.0\n",
            "  Downloading https://files.pythonhosted.org/packages/5c/2d/b1d99e9ad157dd7de9cd0d36a8a5876b13b55e4b75f7498bc96035fb4e96/sqlitedict-1.7.0.tar.gz\n",
            "Collecting mpld3==0.3\n",
            "\u001b[?25l  Downloading https://files.pythonhosted.org/packages/91/95/a52d3a83d0a29ba0d6898f6727e9858fe7a43f6c2ce81a5fe7e05f0f4912/mpld3-0.3.tar.gz (788kB)\n",
            "\u001b[K     |████████████████████████████████| 798kB 24.2MB/s \n",
            "\u001b[?25hRequirement already satisfied: lxml in /usr/local/lib/python3.7/dist-packages (from flair) (4.2.6)\n",
            "Requirement already satisfied: six>=1.5 in /usr/local/lib/python3.7/dist-packages (from python-dateutil>=2.6.1->flair) (1.15.0)\n",
            "Requirement already satisfied: requests in /usr/local/lib/python3.7/dist-packages (from transformers>=4.0.0->flair) (2.23.0)\n",
            "Requirement already satisfied: packaging in /usr/local/lib/python3.7/dist-packages (from transformers>=4.0.0->flair) (20.9)\n",
            "Requirement already satisfied: importlib-metadata; python_version < \"3.8\" in /usr/local/lib/python3.7/dist-packages (from transformers>=4.0.0->flair) (3.8.1)\n",
            "Requirement already satisfied: filelock in /usr/local/lib/python3.7/dist-packages (from transformers>=4.0.0->flair) (3.0.12)\n",
            "Collecting tokenizers<0.11,>=0.10.1\n",
            "\u001b[?25l  Downloading https://files.pythonhosted.org/packages/ae/04/5b870f26a858552025a62f1649c20d29d2672c02ff3c3fb4c688ca46467a/tokenizers-0.10.2-cp37-cp37m-manylinux2010_x86_64.whl (3.3MB)\n",
            "\u001b[K     |████████████████████████████████| 3.3MB 45.9MB/s \n",
            "\u001b[?25hCollecting sacremoses\n",
            "\u001b[?25l  Downloading https://files.pythonhosted.org/packages/08/cd/342e584ee544d044fb573ae697404ce22ede086c9e87ce5960772084cad0/sacremoses-0.0.44.tar.gz (862kB)\n",
            "\u001b[K     |████████████████████████████████| 870kB 39.3MB/s \n",
            "\u001b[?25hRequirement already satisfied: smart-open>=1.2.1 in /usr/local/lib/python3.7/dist-packages (from gensim<=3.8.3,>=3.4.0->flair) (4.2.0)\n",
            "Requirement already satisfied: scipy>=0.18.1 in /usr/local/lib/python3.7/dist-packages (from gensim<=3.8.3,>=3.4.0->flair) (1.4.1)\n",
            "Requirement already satisfied: wrapt<2,>=1.10 in /usr/local/lib/python3.7/dist-packages (from deprecated>=1.2.4->flair) (1.12.1)\n",
            "Requirement already satisfied: typing-extensions in /usr/local/lib/python3.7/dist-packages (from torch<=1.7.1,>=1.5.0->flair) (3.7.4.3)\n",
            "Requirement already satisfied: wcwidth in /usr/local/lib/python3.7/dist-packages (from ftfy->flair) (0.2.5)\n",
            "Requirement already satisfied: joblib>=0.11 in /usr/local/lib/python3.7/dist-packages (from scikit-learn>=0.21.3->flair) (1.0.1)\n",
            "Requirement already satisfied: future in /usr/local/lib/python3.7/dist-packages (from hyperopt>=0.1.1->flair) (0.16.0)\n",
            "Requirement already satisfied: pymongo in /usr/local/lib/python3.7/dist-packages (from hyperopt>=0.1.1->flair) (3.11.3)\n",
            "Requirement already satisfied: networkx in /usr/local/lib/python3.7/dist-packages (from hyperopt>=0.1.1->flair) (2.5)\n",
            "Requirement already satisfied: kiwisolver>=1.0.1 in /usr/local/lib/python3.7/dist-packages (from matplotlib>=2.2.3->flair) (1.3.1)\n",
            "Requirement already satisfied: pyparsing!=2.0.4,!=2.1.2,!=2.1.6,>=2.0.1 in /usr/local/lib/python3.7/dist-packages (from matplotlib>=2.2.3->flair) (2.4.7)\n",
            "Requirement already satisfied: cycler>=0.10 in /usr/local/lib/python3.7/dist-packages (from matplotlib>=2.2.3->flair) (0.10.0)\n",
            "Collecting overrides<4.0.0,>=3.0.0\n",
            "  Downloading https://files.pythonhosted.org/packages/ff/b1/10f69c00947518e6676bbd43e739733048de64b8dd998e9c2d5a71f44c5d/overrides-3.1.0.tar.gz\n",
            "Requirement already satisfied: chardet<4,>=3.0.2 in /usr/local/lib/python3.7/dist-packages (from requests->transformers>=4.0.0->flair) (3.0.4)\n",
            "Requirement already satisfied: urllib3!=1.25.0,!=1.25.1,<1.26,>=1.21.1 in /usr/local/lib/python3.7/dist-packages (from requests->transformers>=4.0.0->flair) (1.24.3)\n",
            "Requirement already satisfied: idna<3,>=2.5 in /usr/local/lib/python3.7/dist-packages (from requests->transformers>=4.0.0->flair) (2.10)\n",
            "Requirement already satisfied: certifi>=2017.4.17 in /usr/local/lib/python3.7/dist-packages (from requests->transformers>=4.0.0->flair) (2020.12.5)\n",
            "Requirement already satisfied: zipp>=0.5 in /usr/local/lib/python3.7/dist-packages (from importlib-metadata; python_version < \"3.8\"->transformers>=4.0.0->flair) (3.4.1)\n",
            "Requirement already satisfied: click in /usr/local/lib/python3.7/dist-packages (from sacremoses->transformers>=4.0.0->flair) (7.1.2)\n",
            "Requirement already satisfied: decorator>=4.3.0 in /usr/local/lib/python3.7/dist-packages (from networkx->hyperopt>=0.1.1->flair) (4.4.2)\n",
            "Building wheels for collected packages: gdown\n",
            "  Building wheel for gdown (PEP 517) ... \u001b[?25l\u001b[?25hdone\n",
            "  Created wheel for gdown: filename=gdown-3.12.2-cp37-none-any.whl size=9693 sha256=5a814f9d9b5f1e78ec6ab8cff6832da32b59f0943bf326e66e65b088dee8c908\n",
            "  Stored in directory: /root/.cache/pip/wheels/81/d0/d7/d9983facc6f2775411803e0e2d30ebf98efbf2fc6e57701e09\n",
            "Successfully built gdown\n",
            "Building wheels for collected packages: segtok, langdetect, ftfy, sqlitedict, mpld3, sacremoses, overrides\n",
            "  Building wheel for segtok (setup.py) ... \u001b[?25l\u001b[?25hdone\n",
            "  Created wheel for segtok: filename=segtok-1.5.10-cp37-none-any.whl size=25019 sha256=eaf80d1ddeed5ef791b4cc617aedab94e84adca95e2d04fce455cf5fbdaae22c\n",
            "  Stored in directory: /root/.cache/pip/wheels/b4/39/f6/9ca1c5cabde964d728023b5751c3a206a5c8cc40252321fb6b\n",
            "  Building wheel for langdetect (setup.py) ... \u001b[?25l\u001b[?25hdone\n",
            "  Created wheel for langdetect: filename=langdetect-1.0.8-cp37-none-any.whl size=993193 sha256=f82473cd7119608167214e836f0e3035f40ff9028727c7b1c04f673dee9f1320\n",
            "  Stored in directory: /root/.cache/pip/wheels/8d/b3/aa/6d99de9f3841d7d3d40a60ea06e6d669e8e5012e6c8b947a57\n",
            "  Building wheel for ftfy (setup.py) ... \u001b[?25l\u001b[?25hdone\n",
            "  Created wheel for ftfy: filename=ftfy-6.0-cp37-none-any.whl size=41622 sha256=4382fe9788cb8e8444e89f2a97866f36fa72594b91ba34a4a04454dcf692c43c\n",
            "  Stored in directory: /root/.cache/pip/wheels/22/8b/08/7d1c17849e10371206a262304973b5a9f45e8b9d0a2179f465\n",
            "  Building wheel for sqlitedict (setup.py) ... \u001b[?25l\u001b[?25hdone\n",
            "  Created wheel for sqlitedict: filename=sqlitedict-1.7.0-cp37-none-any.whl size=14376 sha256=a930aa51c72168050d90a8b97ffdf3e1d10c3e0448f95b87970ae35d82b928a2\n",
            "  Stored in directory: /root/.cache/pip/wheels/cf/c6/4f/2c64a43f041415eb8b8740bd80e15e92f0d46c5e464d8e4b9b\n",
            "  Building wheel for mpld3 (setup.py) ... \u001b[?25l\u001b[?25hdone\n",
            "  Created wheel for mpld3: filename=mpld3-0.3-cp37-none-any.whl size=116679 sha256=e09d9b567458b0338b0589a88162e16a40e2e1cc5398e015685936ace3886aaf\n",
            "  Stored in directory: /root/.cache/pip/wheels/c0/47/fb/8a64f89aecfe0059830479308ad42d62e898a3e3cefdf6ba28\n",
            "  Building wheel for sacremoses (setup.py) ... \u001b[?25l\u001b[?25hdone\n",
            "  Created wheel for sacremoses: filename=sacremoses-0.0.44-cp37-none-any.whl size=886084 sha256=538e8e1821b0706fe5fc02df64924d72444b06f8127ed0e7c457823643b0ccc7\n",
            "  Stored in directory: /root/.cache/pip/wheels/3e/fb/c0/13ab4d63d537658f448366744654323077c4d90069b6512f3c\n",
            "  Building wheel for overrides (setup.py) ... \u001b[?25l\u001b[?25hdone\n",
            "  Created wheel for overrides: filename=overrides-3.1.0-cp37-none-any.whl size=10174 sha256=7a4af0fbe78a9159911996777cbf85ecce8371d6b2de7d9ff29462685048d46b\n",
            "  Stored in directory: /root/.cache/pip/wheels/5c/24/13/6ef8600e6f147c95e595f1289a86a3cc82ed65df57582c65a9\n",
            "Successfully built segtok langdetect ftfy sqlitedict mpld3 sacremoses overrides\n",
            "\u001b[31mERROR: torchvision 0.9.1+cu101 has requirement torch==1.8.1, but you'll have torch 1.7.1 which is incompatible.\u001b[0m\n",
            "\u001b[31mERROR: torchtext 0.9.1 has requirement torch==1.8.1, but you'll have torch 1.7.1 which is incompatible.\u001b[0m\n",
            "\u001b[31mERROR: konoha 4.6.4 has requirement requests<3.0.0,>=2.25.1, but you'll have requests 2.23.0 which is incompatible.\u001b[0m\n",
            "Installing collected packages: tokenizers, sacremoses, transformers, segtok, langdetect, sentencepiece, deprecated, torch, ftfy, janome, gdown, bpemb, huggingface-hub, overrides, konoha, sqlitedict, mpld3, flair\n",
            "  Found existing installation: torch 1.8.1+cu101\n",
            "    Uninstalling torch-1.8.1+cu101:\n",
            "      Successfully uninstalled torch-1.8.1+cu101\n",
            "  Found existing installation: gdown 3.6.4\n",
            "    Uninstalling gdown-3.6.4:\n",
            "      Successfully uninstalled gdown-3.6.4\n",
            "Successfully installed bpemb-0.3.3 deprecated-1.2.12 flair-0.8.0.post1 ftfy-6.0 gdown-3.12.2 huggingface-hub-0.0.8 janome-0.4.1 konoha-4.6.4 langdetect-1.0.8 mpld3-0.3 overrides-3.1.0 sacremoses-0.0.44 segtok-1.5.10 sentencepiece-0.1.95 sqlitedict-1.7.0 tokenizers-0.10.2 torch-1.7.1 transformers-4.5.0\n"
          ],
          "name": "stdout"
        }
      ]
    },
    {
      "cell_type": "code",
      "metadata": {
        "id": "yXyezYZcSBaW"
      },
      "source": [
        "dfsent=df"
      ],
      "execution_count": 27,
      "outputs": []
    },
    {
      "cell_type": "code",
      "metadata": {
        "colab": {
          "base_uri": "https://localhost:8080/",
          "height": 195
        },
        "id": "rU6zbAbYSgEy",
        "outputId": "8f27fe14-e1d5-41d1-c83b-1fabe272d348"
      },
      "source": [
        "# dfsent=dfsent.drop(['index','Unnamed: 0'],axis=1)\n",
        "dfsent['Sentiment']=0\n",
        "dfsent.head()\n"
      ],
      "execution_count": null,
      "outputs": [
        {
          "output_type": "execute_result",
          "data": {
            "text/html": [
              "<div>\n",
              "<style scoped>\n",
              "    .dataframe tbody tr th:only-of-type {\n",
              "        vertical-align: middle;\n",
              "    }\n",
              "\n",
              "    .dataframe tbody tr th {\n",
              "        vertical-align: top;\n",
              "    }\n",
              "\n",
              "    .dataframe thead th {\n",
              "        text-align: right;\n",
              "    }\n",
              "</style>\n",
              "<table border=\"1\" class=\"dataframe\">\n",
              "  <thead>\n",
              "    <tr style=\"text-align: right;\">\n",
              "      <th></th>\n",
              "      <th>index</th>\n",
              "      <th>Unnamed: 0</th>\n",
              "      <th>date</th>\n",
              "      <th>type</th>\n",
              "      <th>link</th>\n",
              "      <th>title</th>\n",
              "      <th>Sentiment</th>\n",
              "    </tr>\n",
              "  </thead>\n",
              "  <tbody>\n",
              "    <tr>\n",
              "      <th>0</th>\n",
              "      <td>0</td>\n",
              "      <td>0</td>\n",
              "      <td>20210401</td>\n",
              "      <td>news</td>\n",
              "      <td>/news/article-9429149/Watchdog-calls-ramblers-...</td>\n",
              "      <td>Minorities 'don't feel welcome in the countrys...</td>\n",
              "      <td>0</td>\n",
              "    </tr>\n",
              "    <tr>\n",
              "      <th>1</th>\n",
              "      <td>4</td>\n",
              "      <td>4</td>\n",
              "      <td>20210401</td>\n",
              "      <td>news</td>\n",
              "      <td>/news/article-9429143/Nurse-pay-app-goes-bust-...</td>\n",
              "      <td>Nurse pay app goes bust after finance company ...</td>\n",
              "      <td>0</td>\n",
              "    </tr>\n",
              "    <tr>\n",
              "      <th>2</th>\n",
              "      <td>10</td>\n",
              "      <td>10</td>\n",
              "      <td>20210401</td>\n",
              "      <td>news</td>\n",
              "      <td>/news/article-9429131/Britain-comes-roaring-pa...</td>\n",
              "      <td>Factory growth hits ten-year high: Britain com...</td>\n",
              "      <td>0</td>\n",
              "    </tr>\n",
              "    <tr>\n",
              "      <th>3</th>\n",
              "      <td>14</td>\n",
              "      <td>14</td>\n",
              "      <td>20210401</td>\n",
              "      <td>news</td>\n",
              "      <td>/news/article-9429125/UK-regulator-total-30-ca...</td>\n",
              "      <td>Seven British people died from a brain blood c...</td>\n",
              "      <td>0</td>\n",
              "    </tr>\n",
              "    <tr>\n",
              "      <th>4</th>\n",
              "      <td>22</td>\n",
              "      <td>22</td>\n",
              "      <td>20210401</td>\n",
              "      <td>news</td>\n",
              "      <td>/news/article-9429107/Drunken-Walmart-shoplift...</td>\n",
              "      <td>Fight breaks out in Walmart when customer take...</td>\n",
              "      <td>0</td>\n",
              "    </tr>\n",
              "  </tbody>\n",
              "</table>\n",
              "</div>"
            ],
            "text/plain": [
              "   index  ...  Sentiment\n",
              "0      0  ...          0\n",
              "1      4  ...          0\n",
              "2     10  ...          0\n",
              "3     14  ...          0\n",
              "4     22  ...          0\n",
              "\n",
              "[5 rows x 7 columns]"
            ]
          },
          "metadata": {
            "tags": []
          },
          "execution_count": 231
        }
      ]
    },
    {
      "cell_type": "code",
      "metadata": {
        "colab": {
          "base_uri": "https://localhost:8080/"
        },
        "id": "7MRF0V2gStXA",
        "outputId": "cea9ce82-bbca-4d7b-b549-8f09387c2a7c"
      },
      "source": [
        "svals=[]\n",
        "# flair_sentiment = flair.models.TextClassifier.load('en-sentiment')\n",
        "for i in tqdm.tqdm(range(len(dfsent))):\n",
        "  sentence=df.iloc[i].title\n",
        "  s = flair.data.Sentence(sentence)\n",
        "  flair_sentiment.predict(s)\n",
        "  total_sentiment = s.labels\n",
        "  svals.append(str(total_sentiment[0]).split(' ')[0])\n",
        "  \n",
        "  "
      ],
      "execution_count": 31,
      "outputs": [
        {
          "output_type": "stream",
          "text": [
            "100%|██████████| 25937/25937 [39:39<00:00, 10.90it/s]\n"
          ],
          "name": "stderr"
        }
      ]
    },
    {
      "cell_type": "code",
      "metadata": {
        "colab": {
          "base_uri": "https://localhost:8080/"
        },
        "id": "3o3Mia992OfZ",
        "outputId": "3b7d0920-2d06-462f-a89c-0c5bd2f79ce4"
      },
      "source": [
        "svals"
      ],
      "execution_count": 30,
      "outputs": [
        {
          "output_type": "execute_result",
          "data": {
            "text/plain": [
              "['NEGATIVE']"
            ]
          },
          "metadata": {
            "tags": []
          },
          "execution_count": 30
        }
      ]
    },
    {
      "cell_type": "code",
      "metadata": {
        "id": "Y3EMVviyv48-"
      },
      "source": [
        "dfsent['Sentiment']=svals"
      ],
      "execution_count": 32,
      "outputs": []
    },
    {
      "cell_type": "code",
      "metadata": {
        "colab": {
          "base_uri": "https://localhost:8080/",
          "height": 323
        },
        "id": "6HQhdX_dv7VM",
        "outputId": "48cb100d-48fc-4653-9256-39e1800cd1a2"
      },
      "source": [
        "dfsent.Sentiment.value_counts().plot.bar()"
      ],
      "execution_count": 33,
      "outputs": [
        {
          "output_type": "execute_result",
          "data": {
            "text/plain": [
              "<matplotlib.axes._subplots.AxesSubplot at 0x7f237f250b10>"
            ]
          },
          "metadata": {
            "tags": []
          },
          "execution_count": 33
        },
        {
          "output_type": "display_data",
          "data": {
            "image/png": "[encoded data removed]",
            "text/plain": [
              "<Figure size 432x288 with 1 Axes>"
            ]
          },
          "metadata": {
            "tags": [],
            "needs_background": "light"
          }
        }
      ]
    },
    {
      "cell_type": "code",
      "metadata": {
        "id": "312D1qShwUGv"
      },
      "source": [
        "dfsent.to_csv(path+'df_with_sent.csv')"
      ],
      "execution_count": 34,
      "outputs": []
    },
    {
      "cell_type": "markdown",
      "metadata": {
        "id": "qpXn22JCAHXi"
      },
      "source": [
        "# Add topics to df"
      ]
    },
    {
      "cell_type": "code",
      "metadata": {
        "id": "lnag8niADiii"
      },
      "source": [
        "dfsent[['Topic 0','Topic 1','Topic 2','Topic 3','Topic 4','Topic 5','Topic 6','Topic 7','Topic 8','Topic 9']]=0"
      ],
      "execution_count": 51,
      "outputs": []
    },
    {
      "cell_type": "code",
      "metadata": {
        "colab": {
          "base_uri": "https://localhost:8080/",
          "height": 402
        },
        "id": "KctfbTNRD110",
        "outputId": "eac9dc1a-a17c-4342-a44a-e99927f5149f"
      },
      "source": [
        "dfsent=pd.read_csv(path+'df_with_sent.csv')\n",
        "dfsent"
      ],
      "execution_count": 56,
      "outputs": [
        {
          "output_type": "execute_result",
          "data": {
            "text/html": [
              "<div>\n",
              "<style scoped>\n",
              "    .dataframe tbody tr th:only-of-type {\n",
              "        vertical-align: middle;\n",
              "    }\n",
              "\n",
              "    .dataframe tbody tr th {\n",
              "        vertical-align: top;\n",
              "    }\n",
              "\n",
              "    .dataframe thead th {\n",
              "        text-align: right;\n",
              "    }\n",
              "</style>\n",
              "<table border=\"1\" class=\"dataframe\">\n",
              "  <thead>\n",
              "    <tr style=\"text-align: right;\">\n",
              "      <th></th>\n",
              "      <th>Unnamed: 0</th>\n",
              "      <th>index</th>\n",
              "      <th>Unnamed: 0.1</th>\n",
              "      <th>date</th>\n",
              "      <th>type</th>\n",
              "      <th>link</th>\n",
              "      <th>title</th>\n",
              "      <th>Sentiment</th>\n",
              "    </tr>\n",
              "  </thead>\n",
              "  <tbody>\n",
              "    <tr>\n",
              "      <th>0</th>\n",
              "      <td>0</td>\n",
              "      <td>0</td>\n",
              "      <td>0</td>\n",
              "      <td>20210401</td>\n",
              "      <td>news</td>\n",
              "      <td>/news/article-9429149/Watchdog-calls-ramblers-...</td>\n",
              "      <td>Minorities 'don't feel welcome in the countrys...</td>\n",
              "      <td>NEGATIVE</td>\n",
              "    </tr>\n",
              "    <tr>\n",
              "      <th>1</th>\n",
              "      <td>1</td>\n",
              "      <td>4</td>\n",
              "      <td>4</td>\n",
              "      <td>20210401</td>\n",
              "      <td>news</td>\n",
              "      <td>/news/article-9429143/Nurse-pay-app-goes-bust-...</td>\n",
              "      <td>Nurse pay app goes bust after finance company ...</td>\n",
              "      <td>NEGATIVE</td>\n",
              "    </tr>\n",
              "    <tr>\n",
              "      <th>2</th>\n",
              "      <td>2</td>\n",
              "      <td>10</td>\n",
              "      <td>10</td>\n",
              "      <td>20210401</td>\n",
              "      <td>news</td>\n",
              "      <td>/news/article-9429131/Britain-comes-roaring-pa...</td>\n",
              "      <td>Factory growth hits ten-year high: Britain com...</td>\n",
              "      <td>POSITIVE</td>\n",
              "    </tr>\n",
              "    <tr>\n",
              "      <th>3</th>\n",
              "      <td>3</td>\n",
              "      <td>14</td>\n",
              "      <td>14</td>\n",
              "      <td>20210401</td>\n",
              "      <td>news</td>\n",
              "      <td>/news/article-9429125/UK-regulator-total-30-ca...</td>\n",
              "      <td>Seven British people died from a brain blood c...</td>\n",
              "      <td>NEGATIVE</td>\n",
              "    </tr>\n",
              "    <tr>\n",
              "      <th>4</th>\n",
              "      <td>4</td>\n",
              "      <td>22</td>\n",
              "      <td>22</td>\n",
              "      <td>20210401</td>\n",
              "      <td>news</td>\n",
              "      <td>/news/article-9429107/Drunken-Walmart-shoplift...</td>\n",
              "      <td>Fight breaks out in Walmart when customer take...</td>\n",
              "      <td>NEGATIVE</td>\n",
              "    </tr>\n",
              "    <tr>\n",
              "      <th>...</th>\n",
              "      <td>...</td>\n",
              "      <td>...</td>\n",
              "      <td>...</td>\n",
              "      <td>...</td>\n",
              "      <td>...</td>\n",
              "      <td>...</td>\n",
              "      <td>...</td>\n",
              "      <td>...</td>\n",
              "    </tr>\n",
              "    <tr>\n",
              "      <th>25932</th>\n",
              "      <td>25932</td>\n",
              "      <td>170706</td>\n",
              "      <td>170706</td>\n",
              "      <td>20210131</td>\n",
              "      <td>news</td>\n",
              "      <td>/news/article-9205993/Alleged-fraudster-Meliss...</td>\n",
              "      <td>Missing millionaire Melissa Caddick likely had...</td>\n",
              "      <td>NEGATIVE</td>\n",
              "    </tr>\n",
              "    <tr>\n",
              "      <th>25933</th>\n",
              "      <td>25933</td>\n",
              "      <td>170722</td>\n",
              "      <td>170722</td>\n",
              "      <td>20210131</td>\n",
              "      <td>news</td>\n",
              "      <td>/news/article-9205961/AFL-legend-Nathan-Buckle...</td>\n",
              "      <td>Has AFL legend Nathan Buckley found love with ...</td>\n",
              "      <td>NEGATIVE</td>\n",
              "    </tr>\n",
              "    <tr>\n",
              "      <th>25934</th>\n",
              "      <td>25934</td>\n",
              "      <td>170727</td>\n",
              "      <td>170727</td>\n",
              "      <td>20210131</td>\n",
              "      <td>news</td>\n",
              "      <td>/news/article-9205951/Hollywoods-super-rich-qu...</td>\n",
              "      <td>Hollywood's super rich are queue-jumping for C...</td>\n",
              "      <td>NEGATIVE</td>\n",
              "    </tr>\n",
              "    <tr>\n",
              "      <th>25935</th>\n",
              "      <td>25935</td>\n",
              "      <td>170735</td>\n",
              "      <td>170735</td>\n",
              "      <td>20210131</td>\n",
              "      <td>news</td>\n",
              "      <td>/news/article-9205935/Scott-Mitchell-says-disa...</td>\n",
              "      <td>Dame Barbara Windsor's husband Scott Mitchell ...</td>\n",
              "      <td>NEGATIVE</td>\n",
              "    </tr>\n",
              "    <tr>\n",
              "      <th>25936</th>\n",
              "      <td>25936</td>\n",
              "      <td>170740</td>\n",
              "      <td>170740</td>\n",
              "      <td>20210131</td>\n",
              "      <td>news</td>\n",
              "      <td>/news/article-9205925/Ban-Anjem-Choudarys-gosp...</td>\n",
              "      <td>Ban on Anjem Choudary's gospel of hatred is ab...</td>\n",
              "      <td>NEGATIVE</td>\n",
              "    </tr>\n",
              "  </tbody>\n",
              "</table>\n",
              "<p>25937 rows × 8 columns</p>\n",
              "</div>"
            ],
            "text/plain": [
              "       Unnamed: 0  ...  Sentiment\n",
              "0               0  ...   NEGATIVE\n",
              "1               1  ...   NEGATIVE\n",
              "2               2  ...   POSITIVE\n",
              "3               3  ...   NEGATIVE\n",
              "4               4  ...   NEGATIVE\n",
              "...           ...  ...        ...\n",
              "25932       25932  ...   NEGATIVE\n",
              "25933       25933  ...   NEGATIVE\n",
              "25934       25934  ...   NEGATIVE\n",
              "25935       25935  ...   NEGATIVE\n",
              "25936       25936  ...   NEGATIVE\n",
              "\n",
              "[25937 rows x 8 columns]"
            ]
          },
          "metadata": {
            "tags": []
          },
          "execution_count": 56
        }
      ]
    },
    {
      "cell_type": "code",
      "metadata": {
        "colab": {
          "base_uri": "https://localhost:8080/"
        },
        "id": "6iCstGGXAMZd",
        "outputId": "6da78021-160c-496e-d024-193a39af1f48"
      },
      "source": [
        "for i in tqdm.tqdm(range(len(dfsent))): \n",
        "  scores=lda_model[bow_corpus[i]]\n",
        "  for score in scores:\n",
        "    id=score[0]\n",
        "    value=score[1]\n",
        "\n",
        "    dfsent.loc[i,'Topic '+str(id)]=value\n"
      ],
      "execution_count": 59,
      "outputs": [
        {
          "output_type": "stream",
          "text": [
            "100%|██████████| 25937/25937 [00:51<00:00, 507.87it/s]\n"
          ],
          "name": "stderr"
        }
      ]
    },
    {
      "cell_type": "code",
      "metadata": {
        "colab": {
          "base_uri": "https://localhost:8080/",
          "height": 265
        },
        "id": "WpPY03CxB-5f",
        "outputId": "4a53559f-5298-4825-9c54-83231dcc76dc"
      },
      "source": [
        "for i in range(10):\n",
        "  dfsent['Topic ' +str(i)].plot.hist(bins=100)"
      ],
      "execution_count": 75,
      "outputs": [
        {
          "output_type": "display_data",
          "data": {
            "image/png": "[encoded data removed]",
            "text/plain": [
              "<Figure size 432x288 with 1 Axes>"
            ]
          },
          "metadata": {
            "tags": [],
            "needs_background": "light"
          }
        }
      ]
    },
    {
      "cell_type": "code",
      "metadata": {
        "id": "dViCbqqQG0jo"
      },
      "source": [
        "# dfsent=dfsent.drop(['Unnamed: 0','index','Unnamed: 0.1'],axis=1)\n",
        "dfsentTopics=dfsent[['Topic 0','Topic 1','Topic 2','Topic 3','Topic 4','Topic 5','Topic 6','Topic 7','Topic 8','Topic 9']]\n",
        "dfsentTopics=dfsentTopics.mask(dfsentTopics < 0.05)"
      ],
      "execution_count": 80,
      "outputs": []
    },
    {
      "cell_type": "code",
      "metadata": {
        "id": "hPriyhHYHc6h"
      },
      "source": [
        "dfsent=dfsent.drop(['Topic 0','Topic 1','Topic 2','Topic 3','Topic 4','Topic 5','Topic 6','Topic 7','Topic 8','Topic 9'],axis=1)"
      ],
      "execution_count": 96,
      "outputs": []
    },
    {
      "cell_type": "code",
      "metadata": {
        "id": "zP_-QFsgHg1B"
      },
      "source": [
        "dfsent_clean=pd.concat([dfsent,dfsentTopics],axis=1)"
      ],
      "execution_count": 100,
      "outputs": []
    },
    {
      "cell_type": "code",
      "metadata": {
        "colab": {
          "base_uri": "https://localhost:8080/",
          "height": 402
        },
        "id": "aFbOvEZuINO6",
        "outputId": "fb734d92-e8a9-4515-e909-59359dfcd79b"
      },
      "source": [
        "dfsent_clean"
      ],
      "execution_count": 101,
      "outputs": [
        {
          "output_type": "execute_result",
          "data": {
            "text/html": [
              "<div>\n",
              "<style scoped>\n",
              "    .dataframe tbody tr th:only-of-type {\n",
              "        vertical-align: middle;\n",
              "    }\n",
              "\n",
              "    .dataframe tbody tr th {\n",
              "        vertical-align: top;\n",
              "    }\n",
              "\n",
              "    .dataframe thead th {\n",
              "        text-align: right;\n",
              "    }\n",
              "</style>\n",
              "<table border=\"1\" class=\"dataframe\">\n",
              "  <thead>\n",
              "    <tr style=\"text-align: right;\">\n",
              "      <th></th>\n",
              "      <th>date</th>\n",
              "      <th>type</th>\n",
              "      <th>link</th>\n",
              "      <th>title</th>\n",
              "      <th>Sentiment</th>\n",
              "      <th>Topic 0</th>\n",
              "      <th>Topic 1</th>\n",
              "      <th>Topic 2</th>\n",
              "      <th>Topic 3</th>\n",
              "      <th>Topic 4</th>\n",
              "      <th>Topic 5</th>\n",
              "      <th>Topic 6</th>\n",
              "      <th>Topic 7</th>\n",
              "      <th>Topic 8</th>\n",
              "      <th>Topic 9</th>\n",
              "    </tr>\n",
              "  </thead>\n",
              "  <tbody>\n",
              "    <tr>\n",
              "      <th>0</th>\n",
              "      <td>20210401</td>\n",
              "      <td>news</td>\n",
              "      <td>/news/article-9429149/Watchdog-calls-ramblers-...</td>\n",
              "      <td>Minorities 'don't feel welcome in the countrys...</td>\n",
              "      <td>NEGATIVE</td>\n",
              "      <td>NaN</td>\n",
              "      <td>NaN</td>\n",
              "      <td>0.118629</td>\n",
              "      <td>NaN</td>\n",
              "      <td>NaN</td>\n",
              "      <td>0.476599</td>\n",
              "      <td>0.278927</td>\n",
              "      <td>0.100217</td>\n",
              "      <td>0.094249</td>\n",
              "      <td>NaN</td>\n",
              "    </tr>\n",
              "    <tr>\n",
              "      <th>1</th>\n",
              "      <td>20210401</td>\n",
              "      <td>news</td>\n",
              "      <td>/news/article-9429143/Nurse-pay-app-goes-bust-...</td>\n",
              "      <td>Nurse pay app goes bust after finance company ...</td>\n",
              "      <td>NEGATIVE</td>\n",
              "      <td>NaN</td>\n",
              "      <td>NaN</td>\n",
              "      <td>NaN</td>\n",
              "      <td>NaN</td>\n",
              "      <td>NaN</td>\n",
              "      <td>0.106767</td>\n",
              "      <td>0.820491</td>\n",
              "      <td>NaN</td>\n",
              "      <td>NaN</td>\n",
              "      <td>NaN</td>\n",
              "    </tr>\n",
              "    <tr>\n",
              "      <th>2</th>\n",
              "      <td>20210401</td>\n",
              "      <td>news</td>\n",
              "      <td>/news/article-9429131/Britain-comes-roaring-pa...</td>\n",
              "      <td>Factory growth hits ten-year high: Britain com...</td>\n",
              "      <td>POSITIVE</td>\n",
              "      <td>NaN</td>\n",
              "      <td>NaN</td>\n",
              "      <td>NaN</td>\n",
              "      <td>0.828950</td>\n",
              "      <td>NaN</td>\n",
              "      <td>NaN</td>\n",
              "      <td>NaN</td>\n",
              "      <td>NaN</td>\n",
              "      <td>0.109500</td>\n",
              "      <td>NaN</td>\n",
              "    </tr>\n",
              "    <tr>\n",
              "      <th>3</th>\n",
              "      <td>20210401</td>\n",
              "      <td>news</td>\n",
              "      <td>/news/article-9429125/UK-regulator-total-30-ca...</td>\n",
              "      <td>Seven British people died from a brain blood c...</td>\n",
              "      <td>NEGATIVE</td>\n",
              "      <td>0.774615</td>\n",
              "      <td>NaN</td>\n",
              "      <td>0.172045</td>\n",
              "      <td>NaN</td>\n",
              "      <td>NaN</td>\n",
              "      <td>NaN</td>\n",
              "      <td>NaN</td>\n",
              "      <td>NaN</td>\n",
              "      <td>NaN</td>\n",
              "      <td>NaN</td>\n",
              "    </tr>\n",
              "    <tr>\n",
              "      <th>4</th>\n",
              "      <td>20210401</td>\n",
              "      <td>news</td>\n",
              "      <td>/news/article-9429107/Drunken-Walmart-shoplift...</td>\n",
              "      <td>Fight breaks out in Walmart when customer take...</td>\n",
              "      <td>NEGATIVE</td>\n",
              "      <td>NaN</td>\n",
              "      <td>NaN</td>\n",
              "      <td>NaN</td>\n",
              "      <td>0.473961</td>\n",
              "      <td>NaN</td>\n",
              "      <td>NaN</td>\n",
              "      <td>NaN</td>\n",
              "      <td>0.437137</td>\n",
              "      <td>NaN</td>\n",
              "      <td>NaN</td>\n",
              "    </tr>\n",
              "    <tr>\n",
              "      <th>...</th>\n",
              "      <td>...</td>\n",
              "      <td>...</td>\n",
              "      <td>...</td>\n",
              "      <td>...</td>\n",
              "      <td>...</td>\n",
              "      <td>...</td>\n",
              "      <td>...</td>\n",
              "      <td>...</td>\n",
              "      <td>...</td>\n",
              "      <td>...</td>\n",
              "      <td>...</td>\n",
              "      <td>...</td>\n",
              "      <td>...</td>\n",
              "      <td>...</td>\n",
              "      <td>...</td>\n",
              "    </tr>\n",
              "    <tr>\n",
              "      <th>25932</th>\n",
              "      <td>20210131</td>\n",
              "      <td>news</td>\n",
              "      <td>/news/article-9205993/Alleged-fraudster-Meliss...</td>\n",
              "      <td>Missing millionaire Melissa Caddick likely had...</td>\n",
              "      <td>NEGATIVE</td>\n",
              "      <td>0.188333</td>\n",
              "      <td>0.398878</td>\n",
              "      <td>NaN</td>\n",
              "      <td>NaN</td>\n",
              "      <td>0.204628</td>\n",
              "      <td>0.170651</td>\n",
              "      <td>NaN</td>\n",
              "      <td>NaN</td>\n",
              "      <td>NaN</td>\n",
              "      <td>NaN</td>\n",
              "    </tr>\n",
              "    <tr>\n",
              "      <th>25933</th>\n",
              "      <td>20210131</td>\n",
              "      <td>news</td>\n",
              "      <td>/news/article-9205961/AFL-legend-Nathan-Buckle...</td>\n",
              "      <td>Has AFL legend Nathan Buckley found love with ...</td>\n",
              "      <td>NEGATIVE</td>\n",
              "      <td>NaN</td>\n",
              "      <td>0.802946</td>\n",
              "      <td>NaN</td>\n",
              "      <td>NaN</td>\n",
              "      <td>NaN</td>\n",
              "      <td>NaN</td>\n",
              "      <td>NaN</td>\n",
              "      <td>0.130380</td>\n",
              "      <td>NaN</td>\n",
              "      <td>NaN</td>\n",
              "    </tr>\n",
              "    <tr>\n",
              "      <th>25934</th>\n",
              "      <td>20210131</td>\n",
              "      <td>news</td>\n",
              "      <td>/news/article-9205951/Hollywoods-super-rich-qu...</td>\n",
              "      <td>Hollywood's super rich are queue-jumping for C...</td>\n",
              "      <td>NEGATIVE</td>\n",
              "      <td>0.675867</td>\n",
              "      <td>0.203062</td>\n",
              "      <td>0.084223</td>\n",
              "      <td>NaN</td>\n",
              "      <td>NaN</td>\n",
              "      <td>NaN</td>\n",
              "      <td>NaN</td>\n",
              "      <td>NaN</td>\n",
              "      <td>NaN</td>\n",
              "      <td>NaN</td>\n",
              "    </tr>\n",
              "    <tr>\n",
              "      <th>25935</th>\n",
              "      <td>20210131</td>\n",
              "      <td>news</td>\n",
              "      <td>/news/article-9205935/Scott-Mitchell-says-disa...</td>\n",
              "      <td>Dame Barbara Windsor's husband Scott Mitchell ...</td>\n",
              "      <td>NEGATIVE</td>\n",
              "      <td>0.240544</td>\n",
              "      <td>0.212082</td>\n",
              "      <td>0.144913</td>\n",
              "      <td>NaN</td>\n",
              "      <td>NaN</td>\n",
              "      <td>NaN</td>\n",
              "      <td>0.113737</td>\n",
              "      <td>0.066950</td>\n",
              "      <td>NaN</td>\n",
              "      <td>0.199547</td>\n",
              "    </tr>\n",
              "    <tr>\n",
              "      <th>25936</th>\n",
              "      <td>20210131</td>\n",
              "      <td>news</td>\n",
              "      <td>/news/article-9205925/Ban-Anjem-Choudarys-gosp...</td>\n",
              "      <td>Ban on Anjem Choudary's gospel of hatred is ab...</td>\n",
              "      <td>NEGATIVE</td>\n",
              "      <td>NaN</td>\n",
              "      <td>NaN</td>\n",
              "      <td>NaN</td>\n",
              "      <td>0.449497</td>\n",
              "      <td>NaN</td>\n",
              "      <td>NaN</td>\n",
              "      <td>NaN</td>\n",
              "      <td>NaN</td>\n",
              "      <td>0.311595</td>\n",
              "      <td>0.180562</td>\n",
              "    </tr>\n",
              "  </tbody>\n",
              "</table>\n",
              "<p>25937 rows × 15 columns</p>\n",
              "</div>"
            ],
            "text/plain": [
              "           date  type  ...   Topic 8   Topic 9\n",
              "0      20210401  news  ...  0.094249       NaN\n",
              "1      20210401  news  ...       NaN       NaN\n",
              "2      20210401  news  ...  0.109500       NaN\n",
              "3      20210401  news  ...       NaN       NaN\n",
              "4      20210401  news  ...       NaN       NaN\n",
              "...         ...   ...  ...       ...       ...\n",
              "25932  20210131  news  ...       NaN       NaN\n",
              "25933  20210131  news  ...       NaN       NaN\n",
              "25934  20210131  news  ...       NaN       NaN\n",
              "25935  20210131  news  ...       NaN  0.199547\n",
              "25936  20210131  news  ...  0.311595  0.180562\n",
              "\n",
              "[25937 rows x 15 columns]"
            ]
          },
          "metadata": {
            "tags": []
          },
          "execution_count": 101
        }
      ]
    },
    {
      "cell_type": "code",
      "metadata": {
        "id": "AjFkaFFmIGQH"
      },
      "source": [
        "dfsent_clean.to_csv('dfsent_clean.csv')"
      ],
      "execution_count": 102,
      "outputs": []
    },
    {
      "cell_type": "code",
      "metadata": {
        "colab": {
          "base_uri": "https://localhost:8080/",
          "height": 298
        },
        "id": "hHA6RRfxFp5l",
        "outputId": "f5ae9ed9-1132-47e1-e32f-063dd79eb19e"
      },
      "source": [
        "dfsent_clean.plot.scatter(x='Topic 9',y='Topic 3')"
      ],
      "execution_count": 104,
      "outputs": [
        {
          "output_type": "execute_result",
          "data": {
            "text/plain": [
              "<matplotlib.axes._subplots.AxesSubplot at 0x7f237f7a5890>"
            ]
          },
          "metadata": {
            "tags": []
          },
          "execution_count": 104
        },
        {
          "output_type": "display_data",
          "data": {
            "image/png": "[encoded data removed]",
            "text/plain": [
              "<Figure size 432x288 with 1 Axes>"
            ]
          },
          "metadata": {
            "tags": [],
            "needs_background": "light"
          }
        }
      ]
    },
    {
      "cell_type": "markdown",
      "metadata": {
        "id": "_eDKhad2IhTf"
      },
      "source": [
        "# Trends in time"
      ]
    },
    {
      "cell_type": "code",
      "metadata": {
        "id": "nLWhT0ErLGwn"
      },
      "source": [
        "dfsent_clean.date=pd.to_datetime(dfsent_clean.date,format='%Y%m%d')"
      ],
      "execution_count": 122,
      "outputs": []
    },
    {
      "cell_type": "code",
      "metadata": {
        "id": "7C7h5IuEK-t-"
      },
      "source": [
        "dfsent_clean=dfsent_clean.sort_values(by='date')\n",
        "dfsent_clean['Year-Month']=dfsent_clean.date.dt.to_period('M')"
      ],
      "execution_count": 132,
      "outputs": []
    },
    {
      "cell_type": "code",
      "metadata": {
        "colab": {
          "base_uri": "https://localhost:8080/",
          "height": 310
        },
        "id": "r49Lrk7YLs_L",
        "outputId": "9671c395-8557-4cc2-9f26-2ab90829ff55"
      },
      "source": [
        "dfsent_clean[['Year-Month','Topic 6']].groupby('Year-Month').sum().plot()"
      ],
      "execution_count": 144,
      "outputs": [
        {
          "output_type": "execute_result",
          "data": {
            "text/plain": [
              "<matplotlib.axes._subplots.AxesSubplot at 0x7f237fe64a10>"
            ]
          },
          "metadata": {
            "tags": []
          },
          "execution_count": 144
        },
        {
          "output_type": "display_data",
          "data": {
            "image/png": "[encoded data removed]",
            "text/plain": [
              "<Figure size 432x288 with 1 Axes>"
            ]
          },
          "metadata": {
            "tags": [],
            "needs_background": "light"
          }
        }
      ]
    },
    {
      "cell_type": "code",
      "metadata": {
        "colab": {
          "base_uri": "https://localhost:8080/",
          "height": 286
        },
        "id": "312gWTw8LRd8",
        "outputId": "c4928069-64e6-42bb-85aa-fa963ba19e96"
      },
      "source": [
        "dfsent_clean['Topic 0'].plot()"
      ],
      "execution_count": 140,
      "outputs": [
        {
          "output_type": "execute_result",
          "data": {
            "text/plain": [
              "<matplotlib.axes._subplots.AxesSubplot at 0x7f237fc5ff10>"
            ]
          },
          "metadata": {
            "tags": []
          },
          "execution_count": 140
        },
        {
          "output_type": "display_data",
          "data": {
            "image/png": "[encoded data removed]",
            "text/plain": [
              "<Figure size 432x288 with 1 Axes>"
            ]
          },
          "metadata": {
            "tags": [],
            "needs_background": "light"
          }
        }
      ]
    },
    {
      "cell_type": "markdown",
      "metadata": {
        "id": "9mjx0mFhIl0V"
      },
      "source": [
        "# Sentiment of topics"
      ]
    },
    {
      "cell_type": "code",
      "metadata": {
        "id": "5EakV9T1Ioco"
      },
      "source": [
        "df_topic_0=dfsent_clean[['title','Topic 0','Sentiment']]\n",
        "df_topic_0=df_topic_0[~df_topic_0['Topic 0'].isna()].copy()"
      ],
      "execution_count": 109,
      "outputs": []
    },
    {
      "cell_type": "code",
      "metadata": {
        "colab": {
          "base_uri": "https://localhost:8080/"
        },
        "id": "v-notlGOI8S1",
        "outputId": "b9b4c065-34cd-489f-c13c-2764038aca51"
      },
      "source": [
        "for i in range(10):\n",
        "  topic='Topic '+str(i)\n",
        "  df_topic=dfsent_clean[['title',topic,'Sentiment']]\n",
        "  df_topic=df_topic[~df_topic[topic].isna()].copy() \n",
        "\n",
        "  lenall=len(df_topic)\n",
        "  lenbad=len(df_topic[df_topic.Sentiment=='NEGATIVE'])\n",
        "  percbad=np.round(lenbad/lenall*100)\n",
        "\n",
        "\n",
        "  print('Topic {} had {}% Negative sentiment'.format(i,percbad))\n",
        "  "
      ],
      "execution_count": 118,
      "outputs": [
        {
          "output_type": "stream",
          "text": [
            "Topic 0 had 79.0% Negative sentiment\n",
            "Topic 1 had 70.0% Negative sentiment\n",
            "Topic 2 had 78.0% Negative sentiment\n",
            "Topic 3 had 73.0% Negative sentiment\n",
            "Topic 4 had 71.0% Negative sentiment\n",
            "Topic 5 had 77.0% Negative sentiment\n",
            "Topic 6 had 82.0% Negative sentiment\n",
            "Topic 7 had 74.0% Negative sentiment\n",
            "Topic 8 had 78.0% Negative sentiment\n",
            "Topic 9 had 77.0% Negative sentiment\n"
          ],
          "name": "stdout"
        }
      ]
    },
    {
      "cell_type": "code",
      "metadata": {
        "colab": {
          "base_uri": "https://localhost:8080/"
        },
        "id": "8Vmdy5t5J-AS",
        "outputId": "bd2b6050-07b0-4b59-8127-0294368e3b44"
      },
      "source": [
        "lda_model.show_topics()"
      ],
      "execution_count": 119,
      "outputs": [
        {
          "output_type": "execute_result",
          "data": {
            "text/plain": [
              "[(0,\n",
              "  '0.059*\"covid\" + 0.037*\"vaccin\" + 0.013*\"bori\" + 0.012*\"say\" + 0.012*\"warn\" + 0.011*\"johnson\" + 0.011*\"peopl\" + 0.011*\"lockdown\" + 0.011*\"week\" + 0.010*\"death\"'),\n",
              " (1,\n",
              "  '0.024*\"school\" + 0.022*\"year\" + 0.021*\"home\" + 0.020*\"million\" + 0.012*\"star\" + 0.010*\"famili\" + 0.010*\"children\" + 0.009*\"teacher\" + 0.008*\"open\" + 0.008*\"reveal\"'),\n",
              " (2,\n",
              "  '0.032*\"year\" + 0.017*\"jail\" + 0.017*\"murder\" + 0.015*\"death\" + 0.014*\"mother\" + 0.013*\"die\" + 0.013*\"kill\" + 0.013*\"charg\" + 0.011*\"woman\" + 0.010*\"father\"'),\n",
              " (3,\n",
              "  '0.017*\"australia\" + 0.017*\"covid\" + 0.014*\"travel\" + 0.013*\"lockdown\" + 0.011*\"hotel\" + 0.011*\"quarantin\" + 0.009*\"australian\" + 0.009*\"coronavirus\" + 0.008*\"million\" + 0.008*\"year\"'),\n",
              " (4,\n",
              "  '0.018*\"miss\" + 0.010*\"snow\" + 0.010*\"water\" + 0.010*\"bodi\" + 0.009*\"home\" + 0.009*\"day\" + 0.009*\"near\" + 0.008*\"flood\" + 0.008*\"storm\" + 0.008*\"year\"'),\n",
              " (5,\n",
              "  '0.022*\"say\" + 0.016*\"claim\" + 0.010*\"harri\" + 0.009*\"princ\" + 0.009*\"accus\" + 0.009*\"call\" + 0.008*\"meghan\" + 0.008*\"royal\" + 0.007*\"biden\" + 0.007*\"interview\"'),\n",
              " (6,\n",
              "  '0.025*\"capitol\" + 0.016*\"riot\" + 0.015*\"protest\" + 0.014*\"maga\" + 0.012*\"say\" + 0.011*\"polic\" + 0.011*\"trump\" + 0.011*\"anti\" + 0.010*\"media\" + 0.009*\"facebook\"'),\n",
              " (7,\n",
              "  '0.029*\"moment\" + 0.022*\"polic\" + 0.013*\"driver\" + 0.011*\"woman\" + 0.010*\"leav\" + 0.009*\"kill\" + 0.008*\"crash\" + 0.008*\"park\" + 0.008*\"shoot\" + 0.008*\"dead\"'),\n",
              " (8,\n",
              "  '0.010*\"attack\" + 0.010*\"chines\" + 0.009*\"share\" + 0.009*\"secur\" + 0.008*\"citi\" + 0.008*\"fake\" + 0.008*\"china\" + 0.007*\"bomb\" + 0.007*\"trade\" + 0.006*\"gamestop\"'),\n",
              " (9,\n",
              "  '0.044*\"trump\" + 0.031*\"biden\" + 0.020*\"presid\" + 0.019*\"say\" + 0.014*\"donald\" + 0.012*\"elect\" + 0.011*\"republican\" + 0.010*\"vote\" + 0.010*\"senat\" + 0.009*\"hous\"')]"
            ]
          },
          "metadata": {
            "tags": []
          },
          "execution_count": 119
        }
      ]
    }
  ]
}